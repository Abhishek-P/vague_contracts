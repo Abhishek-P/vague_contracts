{
 "cells": [
  {
   "cell_type": "code",
   "execution_count": 12,
   "id": "ddfefff5-3f05-4875-b956-624e8e1d9929",
   "metadata": {},
   "outputs": [],
   "source": [
    "from datasets import load_dataset\n",
    "import pandas as pd\n",
    "data_file = \"experiments/1_falseconsensus/main/stimuli.csv\""
   ]
  },
  {
   "cell_type": "code",
   "execution_count": 11,
   "id": "df8ed495-8233-480a-adcd-45e7ffe811f7",
   "metadata": {},
   "outputs": [
    {
     "name": "stdout",
     "output_type": "stream",
     "text": [
      "DatasetDict({\n",
      "    train: Dataset({\n",
      "        features: ['item', 'Title', 'version', 'header', 'continuation', 'name_gender', 'notes', 'locus_of_uncertainty', 'locus_of_uncertainty_location'],\n",
      "        num_rows: 138\n",
      "    })\n",
      "})\n"
     ]
    }
   ],
   "source": [
    "dataset = load_dataset(\"csv\", data_files = \"experiments/1_falseconsensus/main/stimuli.csv\")\n",
    "print(dataset)"
   ]
  },
  {
   "cell_type": "code",
   "execution_count": 18,
   "id": "f23882d3-a44e-4c33-914d-9895dcda5854",
   "metadata": {},
   "outputs": [],
   "source": [
    "contracts = pd.read_csv(data_file, index_col = [\"Title\"])"
   ]
  },
  {
   "cell_type": "code",
   "execution_count": 19,
   "id": "4c69544c-6064-4c7f-a7d0-324cde8f04b7",
   "metadata": {},
   "outputs": [],
   "source": [
    "sample = contracts.sample(5)"
   ]
  },
  {
   "cell_type": "code",
   "execution_count": 100,
   "id": "5d7b0a9d-a3af-4fc9-a29d-f2ff051cc13e",
   "metadata": {},
   "outputs": [],
   "source": [
    "sample.to_csv(\"sample.csv\")"
   ]
  },
  {
   "cell_type": "code",
   "execution_count": 82,
   "id": "f52c7b0a-ab55-4449-969d-438c4878c239",
   "metadata": {},
   "outputs": [
    {
     "data": {
      "text/plain": [
       "Index(['item', 'version', 'header', 'continuation', 'name_gender', 'notes',\n",
       "       'locus_of_uncertainty', 'locus_of_uncertainty_location'],\n",
       "      dtype='object')"
      ]
     },
     "execution_count": 82,
     "metadata": {},
     "output_type": "execute_result"
    }
   ],
   "source": [
    "sample.columns"
   ]
  },
  {
   "cell_type": "code",
   "execution_count": 51,
   "id": "23194299-2d86-4e8f-ad7d-b344af5c8602",
   "metadata": {},
   "outputs": [],
   "source": [
    "def print_example(item):\n",
    "    print(f\"\"\"\n",
    "        {item['item']}\n",
    "        {item.header}\n",
    "        {item.locus_of_uncertainty}\n",
    "        {item.continuation}\n",
    "    \"\"\")"
   ]
  },
  {
   "cell_type": "code",
   "execution_count": 52,
   "id": "7b3ebbb5-a29e-4264-af82-049007451785",
   "metadata": {},
   "outputs": [
    {
     "name": "stdout",
     "output_type": "stream",
     "text": [
      "\n",
      "        Emergency Damages\n",
      "        Joanne's home insurance covers \"Emergency Damages,\" defined as <b>\"loss or damage to the contents of the policyholder's home caused when first responders force an entry into the policyholder's home because of an emergency or perceived emergency involving the policyholder.\"</b>\n",
      "        perceived emergency\n",
      "        Late one night, Joanne hears loud crashing noises coming from another room in her home and believes that a burglar has broken in. From her bedroom, she frantically calls the police, who make a forced entry into her home to assess the situation. It turns out that the noises Joanne heard were indeed from a burglar, whom the police promptly arrest. Joanne files a claim with her insurance company for the damage caused by the forced entry.\n",
      "    \n"
     ]
    }
   ],
   "source": [
    "print_example(sample.iloc[0])"
   ]
  },
  {
   "cell_type": "code",
   "execution_count": 86,
   "id": "abf0249c-5696-4d2f-86d6-030d0a1744f2",
   "metadata": {},
   "outputs": [],
   "source": [
    "def make_yes_or_no_question_from_item(item):\n",
    "    return f\"\"\"{item.header}\n",
    "    {item.continuation}\n",
    "    {item.version}\n",
    "    Do you think that the claim is covered under {item.locus_of_uncertainty} as it appears in the policy?\n",
    "    \"\"\""
   ]
  },
  {
   "cell_type": "code",
   "execution_count": 98,
   "id": "39964649-2650-4956-bc07-8eba2e8bcf09",
   "metadata": {},
   "outputs": [],
   "source": [
    "def make_it_do_you_agree(item, actor = \"Insurance Company\"): \n",
    "    return f\"\"\"{item.header}\n",
    "    {item.continuation}\n",
    "    {actor} decided that the claim is {item.version} under the policy.\n",
    "    Do you agree?\n",
    "    \"\"\"\n",
    "\n",
    "def make_it_persona_questions(item, persona = \"Insurance Lawyer for Insurance Company\", responsibilities= None):\n",
    "    pass"
   ]
  },
  {
   "cell_type": "code",
   "execution_count": 99,
   "id": "04cc618e-1a7e-4a1f-92b9-96d5714aeccf",
   "metadata": {},
   "outputs": [
    {
     "data": {
      "text/plain": [
       "'Genie has home insurance that covers \"Garden Plants\" damage, defined as <b>\"damage to plants, bushes, shrubs and trees within the boundaries of the land belonging to the home caused by civil commotion, strikes, or labor and political disturbances.\"</b>\\n    Genie buys special fertilizer for her garden plants from a hardware store located next door. When the workers of the store go on strike, the store temporarily shuts down due to staff shortages, and Genie is unable to find the fertilizer within driving distance from her home or online. Without the fertilizer, the plants die. Genie files a claim with her insurance company for the damage to her plants.\\n    Insurance Company decided that the claim is controversial under the policy.\\n    Do you agree?\\n    '"
      ]
     },
     "execution_count": 99,
     "metadata": {},
     "output_type": "execute_result"
    }
   ],
   "source": [
    "make_it_do_you_agree(sample.iloc[0])"
   ]
  },
  {
   "cell_type": "code",
   "execution_count": null,
   "id": "7628bc58-7f17-48c4-883b-7274e5f2670d",
   "metadata": {},
   "outputs": [],
   "source": []
  }
 ],
 "metadata": {
  "kernelspec": {
   "display_name": "pp-contacts",
   "language": "python",
   "name": "pp-contacts"
  },
  "language_info": {
   "codemirror_mode": {
    "name": "ipython",
    "version": 3
   },
   "file_extension": ".py",
   "mimetype": "text/x-python",
   "name": "python",
   "nbconvert_exporter": "python",
   "pygments_lexer": "ipython3",
   "version": "3.10.0"
  }
 },
 "nbformat": 4,
 "nbformat_minor": 5
}
