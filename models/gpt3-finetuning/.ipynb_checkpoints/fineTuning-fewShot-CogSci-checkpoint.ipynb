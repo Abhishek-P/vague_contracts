{
 "cells": [
  {
   "cell_type": "code",
   "execution_count": 1,
   "metadata": {},
   "outputs": [
    {
     "name": "stderr",
     "output_type": "stream",
     "text": [
      "/usr/local/anaconda3/envs/falseConsensus/lib/python3.10/site-packages/tqdm/auto.py:22: TqdmWarning: IProgress not found. Please update jupyter and ipywidgets. See https://ipywidgets.readthedocs.io/en/stable/user_install.html\n",
      "  from .autonotebook import tqdm as notebook_tqdm\n",
      "None of PyTorch, TensorFlow >= 2.0, or Flax have been found. Models won't be available and only tokenizers, configuration and file/data utilities can be used.\n"
     ]
    }
   ],
   "source": [
    "import openai\n",
    "import os\n",
    "import pandas as pd\n",
    "import numpy as np\n",
    "from transformers import GPT2TokenizerFast\n",
    "openai.api_key = os.getenv(\"OPENAI_API_KEY\")"
   ]
  },
  {
   "cell_type": "code",
   "execution_count": 2,
   "metadata": {},
   "outputs": [
    {
     "data": {
      "text/plain": [
       "array(['0', '10', '100', '20', '30', '40', '50', '60', '70', '80', '90'],\n",
       "      dtype=object)"
      ]
     },
     "execution_count": 2,
     "metadata": {},
     "output_type": "execute_result"
    }
   ],
   "source": [
    "df = pd.read_csv(\"../../results/1_falseconsensus/fineTuneDataSet.csv\")\n",
    "df[\"completion\"] = np.around(df[\"propYes\"],1) * 100\n",
    "df[\"completion\"] = df[\"completion\"].astype(int)\n",
    "df[\"completion\"] = df[\"completion\"].astype(str)\n",
    "df[\"index\"] = np.arange(len(df))\n",
    "df[\"item\"] = df[\"item\"].replace(\"Vehicle TheftVe\", \"Vehicle Theft\")\n",
    "np.unique(df[\"completion\"])"
   ]
  },
  {
   "cell_type": "code",
   "execution_count": 3,
   "metadata": {},
   "outputs": [
    {
     "name": "stdout",
     "output_type": "stream",
     "text": [
      "{'0': [657], '10': [838], '20': [1160], '30': [1542], '40': [2319], '50': [2026], '60': [3126], '70': [4317], '80': [4019], '90': [4101], '100': [1802], 'would': [561]}\n"
     ]
    }
   ],
   "source": [
    "# FOR LOGIT BIAS, WHICH WILL RESTRICT OUTPUT TO INTEGERS ON THE RANGE OF [1,100]\n",
    "tokenizer = GPT2TokenizerFast.from_pretrained(\"gpt2\")\n",
    "# labels = [str(i + 1) for i in range(0,100)]\n",
    "labels = [str((i + 1)*10) for i in range(-1,10)]\n",
    "labels.append(\"would\")\n",
    "labels_tokens = {label: tokenizer.encode(\" \" + label) for label in labels}\n",
    "print(labels_tokens)"
   ]
  },
  {
   "cell_type": "code",
   "execution_count": 4,
   "metadata": {},
   "outputs": [
    {
     "name": "stdout",
     "output_type": "stream",
     "text": [
      "{657: 100, 838: 100, 1160: 100, 1542: 100, 2319: 100, 2026: 100, 3126: 100, 4317: 100, 4019: 100, 4101: 100, 1802: 100, 561: 100}\n"
     ]
    }
   ],
   "source": [
    "tokens = [value[0] for key, value in labels_tokens.items()]\n",
    "logit_biases = {}\n",
    "for i in tokens:\n",
    "    logit_biases[i] = 100\n",
    "print(logit_biases)"
   ]
  },
  {
   "cell_type": "code",
   "execution_count": 5,
   "metadata": {},
   "outputs": [],
   "source": [
    "# FUNCTION THAT TAKES AS ITS INPUT DATAFRAME AND # OF DESIRED EXAMPLES FOR FEW-SHOT PROMPTING\n",
    "# OUTPUTS AN EVALUATION DATAFRAME THAT INCLUDES PROMPTS W/ RANDOMLY-SAMPLED DATA FROM DATAFRAME\n",
    "# (EVALUATION DATAFRAME EXCLUDES THOSE EXAMPLES)\n",
    "def create_evaluation_dataset(df, n_exampleGroups):\n",
    "    prompt_header = \"\"\n",
    "    exampleGroups = np.random.choice(np.unique(df[\"title\"]),n_exampleGroups)\n",
    "    examples = df[df[\"title\"].isin(exampleGroups)].index\n",
    "    for index in examples:\n",
    "        prompt_header += \"QUESTION: \" + df[\"header\"][index] + \" \" + df[\"continuation\"][index] + \"\\n\"\n",
    "        prompt_header += \"Out of 100 randomly-sampled people, approximately how many would believe that the claim is covered under \" + df[\"item\"][index] + \" as it appears in the policy?\" + \"\\n\"\n",
    "        prompt_header += \"ANSWER: Out of 100 randomly-sampled people, approximately \" + df[\"completion\"][index] + \" would believe that the claim is covered under \" + df[\"item\"][index] + \" as it appears in the policy.\\n\\n---\\n\\n\"\n",
    "    eval_set = df[~(np.isin(df[\"index\"],examples))].copy(deep=False)\n",
    "    eval_set[\"prompt_noexample\"] = \"QUESTION: \" + eval_set[\"header\"] + \" \" + eval_set[\"continuation\"] + \"\\n\" + \"Out of 100 randomly-sampled people, approximately how many would believe that the claim is covered under \" + eval_set[\"item\"] + \" as it appears in the policy?\" + \"\\n\" + \"ANSWER: Out of 100 randomly-sampled people, approximately \"\n",
    "    eval_set[\"prompt_withexamples\"] = prompt_header + eval_set[\"prompt_noexample\"]\n",
    "    return eval_set "
   ]
  },
  {
   "cell_type": "code",
   "execution_count": 11,
   "metadata": {},
   "outputs": [],
   "source": [
    "evalSet = create_evaluation_dataset(df, 2)"
   ]
  },
  {
   "cell_type": "code",
   "execution_count": 12,
   "metadata": {},
   "outputs": [
    {
     "data": {
      "text/plain": [
       "'QUESTION: Genie has home insurance that covers \"Garden Plants\" damage, defined as <b>\"damage to plants, bushes, shrubs and trees within the boundaries of the land belonging to the home caused by civil commotion, strikes, or labor and political disturbances.\"</b> Genie buys special fertilizer for her garden plants from a hardware store located next door. When the workers of the store go on strike, the store temporarily shuts down due to staff shortages, and Genie is unable to find the fertilizer within driving distance from her home or online. Without the fertilizer, the plants die. Genie files a claim with her insurance company for the damage to her plants.\\nOut of 100 randomly-sampled people, approximately how many would believe that the claim is covered under Garden Plants as it appears in the policy?\\nANSWER: Out of 100 randomly-sampled people, approximately 40 would believe that the claim is covered under Garden Plants as it appears in the policy.\\n\\n---\\n\\nQUESTION: Genie has home insurance that covers \"Garden Plants\" damage, defined as <b>\"damage to plants, bushes, shrubs and trees within the boundaries of the land belonging to the home caused by civil commotion, strikes, or labor and political disturbances.\"</b> Genie buys special fertilizer for her garden plants from a hardware store located next door. When the workers of the store go on strike, they start picketing outside, and some of their picketing activities spill over to Genie\\'s property. When the strikers inadvertently walk on Genie\\'s plants, the plants die. Genie files a claim with her insurance company for the damage to her plants.\\nOut of 100 randomly-sampled people, approximately how many would believe that the claim is covered under Garden Plants as it appears in the policy?\\nANSWER: Out of 100 randomly-sampled people, approximately 100 would believe that the claim is covered under Garden Plants as it appears in the policy.\\n\\n---\\n\\nQUESTION: Genie has home insurance that covers \"Garden Plants\" damage, defined as <b>\"damage to plants, bushes, shrubs and trees within the boundaries of the land belonging to the home caused by civil commotion, strikes, or labor and political disturbances.\"</b> Genie buys special fertilizer for her garden plants from a hardware store located next door. When the workers of the store go on strike, the store temporarily shuts down due to staff shortages, and Genie decides that it is too inconvenient to buy the fertilizer from another store located slightly further away. Without the fertilizer, the plants die. Genie files a claim with her insurance company for the damage to her plants.\\nOut of 100 randomly-sampled people, approximately how many would believe that the claim is covered under Garden Plants as it appears in the policy?\\nANSWER: Out of 100 randomly-sampled people, approximately 20 would believe that the claim is covered under Garden Plants as it appears in the policy.\\n\\n---\\n\\nQUESTION: Margot has home insurance that covers \"Garden Plants\" damage, defined as <b>\"damage to plants, bushes, shrubs and trees within the boundaries of the land belonging to the home caused by malicious people or vandals.\"</b> One day, while Margot is away from her home, her surveillance footage captures a neighbor\\'s middle school-aged children trampling her plants. Margot files a claim with her insurance company for the loss.\\nOut of 100 randomly-sampled people, approximately how many would believe that the claim is covered under Garden Plants as it appears in the policy?\\nANSWER: Out of 100 randomly-sampled people, approximately 90 would believe that the claim is covered under Garden Plants as it appears in the policy.\\n\\n---\\n\\nQUESTION: Margot has home insurance that covers \"Garden Plants\" damage, defined as <b>\"damage to plants, bushes, shrubs and trees within the boundaries of the land belonging to the home caused by malicious people or vandals.\"</b> One day, while Margot is away from her home, her surveillance footage captures masked individuals trampling her plants. Margot files a claim with her insurance company for the loss.\\nOut of 100 randomly-sampled people, approximately how many would believe that the claim is covered under Garden Plants as it appears in the policy?\\nANSWER: Out of 100 randomly-sampled people, approximately 100 would believe that the claim is covered under Garden Plants as it appears in the policy.\\n\\n---\\n\\nQUESTION: Margot has home insurance that covers \"Garden Plants\" damage, defined as <b>\"damage to plants, bushes, shrubs and trees within the boundaries of the land belonging to the home caused by malicious people or vandals.\"</b> One day, while Margot is away from her home, her surveillance footage captures her neighbor\\'s dog trampling her plants. Margot files a claim with her insurance company for the loss.\\nOut of 100 randomly-sampled people, approximately how many would believe that the claim is covered under Garden Plants as it appears in the policy?\\nANSWER: Out of 100 randomly-sampled people, approximately 20 would believe that the claim is covered under Garden Plants as it appears in the policy.\\n\\n---\\n\\nQUESTION: Martha has an insurance policy that covers accidental damage to her home and belongings from \"Hot Work,\" defined as <b>\"any work that requires, uses or produces any sources of heat that could ignite flammable materials.\"</b> Martha is installing hardwood flooring in her living room. She uses a heat gun -- a device that emits very hot air -- to help dry the glue that attaches the floorboards. While arranging her floorboards, she sets her heat gun down on her expensive dining room table, which causes the surface of the table to burn but not catch fire. Martha files a claim with her insurance company for the damage.\\nOut of 100 randomly-sampled people, approximately how many would believe that the claim is covered under Hot Work as it appears in the policy?\\nANSWER: Out of 100 randomly-sampled people, approximately 60 would believe that the claim is covered under Hot Work as it appears in the policy.\\n\\n---\\n\\nQUESTION: Martha has an insurance policy that covers accidental damage to her home and belongings from \"Hot Work,\" defined as <b>\"any work that requires, uses or produces any sources of heat that could ignite flammable materials.\"</b> Martha is installing hardwood flooring in her living room. She uses a heat gun -- a device that emits very hot air -- to help dry the glue that attaches the floorboards. While arranging her floorboards, she sets her heat gun down on her expensive dining room table, which causes the table to catch fire. Martha files a claim with her insurance company for the damage.\\nOut of 100 randomly-sampled people, approximately how many would believe that the claim is covered under Hot Work as it appears in the policy?\\nANSWER: Out of 100 randomly-sampled people, approximately 90 would believe that the claim is covered under Hot Work as it appears in the policy.\\n\\n---\\n\\nQUESTION: Martha has an insurance policy that covers accidental damage to her home and belongings from \"Hot Work,\" defined as <b>\"any work that requires, uses or produces any sources of heat that could ignite flammable materials.\"</b> Martha is installing hardwood flooring in her living room. She uses a heat gun -- a device that emits very hot air -- to help dry the glue that attaches the floorboards. While arranging her floorboards, she sets her heat gun down on her expensive dining room table, which severely warps the table\\'s surface. Martha files a claim with her insurance company for the damage.\\nOut of 100 randomly-sampled people, approximately how many would believe that the claim is covered under Hot Work as it appears in the policy?\\nANSWER: Out of 100 randomly-sampled people, approximately 60 would believe that the claim is covered under Hot Work as it appears in the policy.\\n\\n---\\n\\nQUESTION: Joanne\\'s home insurance covers \"Emergency Damages,\" defined as <b>\"loss or damage to the contents of the policyholder\\'s home caused when first responders force an entry into the policyholder\\'s home because of an emergency or perceived emergency involving the policyholder.\"</b> Late one night, Joanne hears loud crashing noises coming from another room in her home and believes that a burglar has broken in. From her bedroom, she frantically calls the police, who make a forced entry into her home to assess the situation. It turns out that the noises Joanne heard were indeed from a burglar, whom the police promptly arrest. Joanne files a claim with her insurance company for the damage caused by the forced entry.\\nOut of 100 randomly-sampled people, approximately how many would believe that the claim is covered under Emergency Damages as it appears in the policy?\\nANSWER: Out of 100 randomly-sampled people, approximately '"
      ]
     },
     "execution_count": 12,
     "metadata": {},
     "output_type": "execute_result"
    }
   ],
   "source": [
    "evalSet[\"prompt_withexamples\"][1]"
   ]
  },
  {
   "cell_type": "code",
   "execution_count": 13,
   "metadata": {},
   "outputs": [],
   "source": [
    "evalSet[\"predictions_zeroshot\"] = evalSet.apply(lambda x : openai.Completion.create(model=\"curie\", \n",
    "                                    prompt=x[\"prompt_noexample\"],   \n",
    "                                    logit_bias=logit_biases,  \n",
    "                                    stop = \"would\",\n",
    "                                    temperature=0, max_tokens=2).choices[0].text, axis = 1)"
   ]
  },
  {
   "cell_type": "code",
   "execution_count": 14,
   "metadata": {},
   "outputs": [],
   "source": [
    "evalSet[\"predictions_fewshot\"] = evalSet.apply(lambda x : openai.Completion.create(model=\"curie\", \n",
    "                                    prompt=x[\"prompt_withexamples\"],   \n",
    "                                    logit_bias=logit_biases, \n",
    "                                    stop = [\"would\"],\n",
    "                                    temperature=0, max_tokens=2).choices[0].text, axis = 1)"
   ]
  },
  {
   "cell_type": "code",
   "execution_count": 15,
   "metadata": {},
   "outputs": [],
   "source": [
    "goldLabels = np.array(evalSet[\"completion\"]).astype(int)\n",
    "zeroShotPredictions = np.array(evalSet[\"predictions_zeroshot\"]).astype(int)\n",
    "fewShotPredictions = np.array(evalSet[\"predictions_fewshot\"]).astype(int)"
   ]
  },
  {
   "cell_type": "code",
   "execution_count": 16,
   "metadata": {},
   "outputs": [
    {
     "data": {
      "text/html": [
       "<div>\n",
       "<style scoped>\n",
       "    .dataframe tbody tr th:only-of-type {\n",
       "        vertical-align: middle;\n",
       "    }\n",
       "\n",
       "    .dataframe tbody tr th {\n",
       "        vertical-align: top;\n",
       "    }\n",
       "\n",
       "    .dataframe thead th {\n",
       "        text-align: right;\n",
       "    }\n",
       "</style>\n",
       "<table border=\"1\" class=\"dataframe\">\n",
       "  <thead>\n",
       "    <tr style=\"text-align: right;\">\n",
       "      <th></th>\n",
       "      <th>title</th>\n",
       "      <th>version</th>\n",
       "      <th>nYes</th>\n",
       "      <th>nNo</th>\n",
       "      <th>nCantDecide</th>\n",
       "      <th>propYes</th>\n",
       "      <th>propNo</th>\n",
       "      <th>propCantDecide</th>\n",
       "      <th>item</th>\n",
       "      <th>header</th>\n",
       "      <th>continuation</th>\n",
       "      <th>completion</th>\n",
       "      <th>index</th>\n",
       "      <th>prompt_noexample</th>\n",
       "      <th>prompt_withexamples</th>\n",
       "      <th>predictions_zeroshot</th>\n",
       "      <th>predictions_fewshot</th>\n",
       "    </tr>\n",
       "  </thead>\n",
       "  <tbody>\n",
       "    <tr>\n",
       "      <th>0</th>\n",
       "      <td>Emergency Damages I</td>\n",
       "      <td>controversial</td>\n",
       "      <td>24</td>\n",
       "      <td>7</td>\n",
       "      <td>4</td>\n",
       "      <td>0.685714</td>\n",
       "      <td>0.200000</td>\n",
       "      <td>0.114286</td>\n",
       "      <td>Emergency Damages</td>\n",
       "      <td>Joanne's home insurance covers \"Emergency Dama...</td>\n",
       "      <td>Late one night, Joanne hears loud crashing noi...</td>\n",
       "      <td>70</td>\n",
       "      <td>0</td>\n",
       "      <td>QUESTION: Joanne's home insurance covers \"Emer...</td>\n",
       "      <td>QUESTION: Genie has home insurance that covers...</td>\n",
       "      <td>40</td>\n",
       "      <td>40</td>\n",
       "    </tr>\n",
       "    <tr>\n",
       "      <th>1</th>\n",
       "      <td>Emergency Damages I</td>\n",
       "      <td>unambiguous_covered</td>\n",
       "      <td>22</td>\n",
       "      <td>0</td>\n",
       "      <td>0</td>\n",
       "      <td>1.000000</td>\n",
       "      <td>0.000000</td>\n",
       "      <td>0.000000</td>\n",
       "      <td>Emergency Damages</td>\n",
       "      <td>Joanne's home insurance covers \"Emergency Dama...</td>\n",
       "      <td>Late one night, Joanne hears loud crashing noi...</td>\n",
       "      <td>100</td>\n",
       "      <td>1</td>\n",
       "      <td>QUESTION: Joanne's home insurance covers \"Emer...</td>\n",
       "      <td>QUESTION: Genie has home insurance that covers...</td>\n",
       "      <td>40</td>\n",
       "      <td>40</td>\n",
       "    </tr>\n",
       "    <tr>\n",
       "      <th>2</th>\n",
       "      <td>Emergency Damages I</td>\n",
       "      <td>unambiguous_uncovered</td>\n",
       "      <td>8</td>\n",
       "      <td>9</td>\n",
       "      <td>2</td>\n",
       "      <td>0.421053</td>\n",
       "      <td>0.473684</td>\n",
       "      <td>0.105263</td>\n",
       "      <td>Emergency Damages</td>\n",
       "      <td>Joanne's home insurance covers \"Emergency Dama...</td>\n",
       "      <td>Late one night, Joanne hears loud crashing noi...</td>\n",
       "      <td>40</td>\n",
       "      <td>2</td>\n",
       "      <td>QUESTION: Joanne's home insurance covers \"Emer...</td>\n",
       "      <td>QUESTION: Genie has home insurance that covers...</td>\n",
       "      <td>40</td>\n",
       "      <td>40</td>\n",
       "    </tr>\n",
       "    <tr>\n",
       "      <th>3</th>\n",
       "      <td>Emergency Damages II</td>\n",
       "      <td>controversial</td>\n",
       "      <td>17</td>\n",
       "      <td>14</td>\n",
       "      <td>0</td>\n",
       "      <td>0.548387</td>\n",
       "      <td>0.451613</td>\n",
       "      <td>0.000000</td>\n",
       "      <td>Emergency Damages</td>\n",
       "      <td>Salma's home insurance covers \"Emergency Damag...</td>\n",
       "      <td>Late one night, Salma hears noises coming from...</td>\n",
       "      <td>50</td>\n",
       "      <td>3</td>\n",
       "      <td>QUESTION: Salma's home insurance covers \"Emerg...</td>\n",
       "      <td>QUESTION: Genie has home insurance that covers...</td>\n",
       "      <td>40</td>\n",
       "      <td>40</td>\n",
       "    </tr>\n",
       "    <tr>\n",
       "      <th>4</th>\n",
       "      <td>Emergency Damages II</td>\n",
       "      <td>unambiguous_covered</td>\n",
       "      <td>27</td>\n",
       "      <td>0</td>\n",
       "      <td>0</td>\n",
       "      <td>1.000000</td>\n",
       "      <td>0.000000</td>\n",
       "      <td>0.000000</td>\n",
       "      <td>Emergency Damages</td>\n",
       "      <td>Salma's home insurance covers \"Emergency Damag...</td>\n",
       "      <td>Late one night, Salma hears noises coming from...</td>\n",
       "      <td>100</td>\n",
       "      <td>4</td>\n",
       "      <td>QUESTION: Salma's home insurance covers \"Emerg...</td>\n",
       "      <td>QUESTION: Genie has home insurance that covers...</td>\n",
       "      <td>40</td>\n",
       "      <td>40</td>\n",
       "    </tr>\n",
       "    <tr>\n",
       "      <th>...</th>\n",
       "      <td>...</td>\n",
       "      <td>...</td>\n",
       "      <td>...</td>\n",
       "      <td>...</td>\n",
       "      <td>...</td>\n",
       "      <td>...</td>\n",
       "      <td>...</td>\n",
       "      <td>...</td>\n",
       "      <td>...</td>\n",
       "      <td>...</td>\n",
       "      <td>...</td>\n",
       "      <td>...</td>\n",
       "      <td>...</td>\n",
       "      <td>...</td>\n",
       "      <td>...</td>\n",
       "      <td>...</td>\n",
       "      <td>...</td>\n",
       "    </tr>\n",
       "    <tr>\n",
       "      <th>133</th>\n",
       "      <td>Vehicle Theft VI</td>\n",
       "      <td>unambiguous_covered</td>\n",
       "      <td>24</td>\n",
       "      <td>0</td>\n",
       "      <td>0</td>\n",
       "      <td>1.000000</td>\n",
       "      <td>0.000000</td>\n",
       "      <td>0.000000</td>\n",
       "      <td>Vehicle Theft</td>\n",
       "      <td>Cooper's car insurance policy includes coverag...</td>\n",
       "      <td>Cooper, who keeps a GPS tracking device in his...</td>\n",
       "      <td>100</td>\n",
       "      <td>133</td>\n",
       "      <td>QUESTION: Cooper's car insurance policy includ...</td>\n",
       "      <td>QUESTION: Genie has home insurance that covers...</td>\n",
       "      <td>0</td>\n",
       "      <td>40</td>\n",
       "    </tr>\n",
       "    <tr>\n",
       "      <th>134</th>\n",
       "      <td>Vehicle Theft VI</td>\n",
       "      <td>unambiguous_uncovered</td>\n",
       "      <td>0</td>\n",
       "      <td>22</td>\n",
       "      <td>0</td>\n",
       "      <td>0.000000</td>\n",
       "      <td>1.000000</td>\n",
       "      <td>0.000000</td>\n",
       "      <td>Vehicle Theft</td>\n",
       "      <td>Cooper's car insurance policy includes coverag...</td>\n",
       "      <td>Cooper, who doesn't keep a GPS tracking device...</td>\n",
       "      <td>0</td>\n",
       "      <td>134</td>\n",
       "      <td>QUESTION: Cooper's car insurance policy includ...</td>\n",
       "      <td>QUESTION: Genie has home insurance that covers...</td>\n",
       "      <td>0</td>\n",
       "      <td>40</td>\n",
       "    </tr>\n",
       "    <tr>\n",
       "      <th>135</th>\n",
       "      <td>Wind Damage</td>\n",
       "      <td>controversial</td>\n",
       "      <td>16</td>\n",
       "      <td>8</td>\n",
       "      <td>2</td>\n",
       "      <td>0.615385</td>\n",
       "      <td>0.307692</td>\n",
       "      <td>0.076923</td>\n",
       "      <td>Wind Damage</td>\n",
       "      <td>Tom's home insurance policy includes coverage ...</td>\n",
       "      <td>Tom's house is located near a large lake. One ...</td>\n",
       "      <td>60</td>\n",
       "      <td>135</td>\n",
       "      <td>QUESTION: Tom's home insurance policy includes...</td>\n",
       "      <td>QUESTION: Genie has home insurance that covers...</td>\n",
       "      <td>40</td>\n",
       "      <td>40</td>\n",
       "    </tr>\n",
       "    <tr>\n",
       "      <th>136</th>\n",
       "      <td>Wind Damage</td>\n",
       "      <td>unambiguous_covered</td>\n",
       "      <td>26</td>\n",
       "      <td>0</td>\n",
       "      <td>0</td>\n",
       "      <td>1.000000</td>\n",
       "      <td>0.000000</td>\n",
       "      <td>0.000000</td>\n",
       "      <td>Wind Damage</td>\n",
       "      <td>Tom's home insurance policy includes coverage ...</td>\n",
       "      <td>Tom's house is located near a large lake. One ...</td>\n",
       "      <td>100</td>\n",
       "      <td>136</td>\n",
       "      <td>QUESTION: Tom's home insurance policy includes...</td>\n",
       "      <td>QUESTION: Genie has home insurance that covers...</td>\n",
       "      <td>40</td>\n",
       "      <td>40</td>\n",
       "    </tr>\n",
       "    <tr>\n",
       "      <th>137</th>\n",
       "      <td>Wind Damage</td>\n",
       "      <td>unambiguous_uncovered</td>\n",
       "      <td>7</td>\n",
       "      <td>27</td>\n",
       "      <td>1</td>\n",
       "      <td>0.200000</td>\n",
       "      <td>0.771429</td>\n",
       "      <td>0.028571</td>\n",
       "      <td>Wind Damage</td>\n",
       "      <td>Tom's home insurance policy includes coverage ...</td>\n",
       "      <td>Tom's house is located near a large lake. One ...</td>\n",
       "      <td>20</td>\n",
       "      <td>137</td>\n",
       "      <td>QUESTION: Tom's home insurance policy includes...</td>\n",
       "      <td>QUESTION: Genie has home insurance that covers...</td>\n",
       "      <td>40</td>\n",
       "      <td>40</td>\n",
       "    </tr>\n",
       "  </tbody>\n",
       "</table>\n",
       "<p>129 rows × 17 columns</p>\n",
       "</div>"
      ],
      "text/plain": [
       "                    title                version  nYes  nNo  nCantDecide  \\\n",
       "0     Emergency Damages I          controversial    24    7            4   \n",
       "1     Emergency Damages I    unambiguous_covered    22    0            0   \n",
       "2     Emergency Damages I  unambiguous_uncovered     8    9            2   \n",
       "3    Emergency Damages II          controversial    17   14            0   \n",
       "4    Emergency Damages II    unambiguous_covered    27    0            0   \n",
       "..                    ...                    ...   ...  ...          ...   \n",
       "133      Vehicle Theft VI    unambiguous_covered    24    0            0   \n",
       "134      Vehicle Theft VI  unambiguous_uncovered     0   22            0   \n",
       "135           Wind Damage          controversial    16    8            2   \n",
       "136           Wind Damage    unambiguous_covered    26    0            0   \n",
       "137           Wind Damage  unambiguous_uncovered     7   27            1   \n",
       "\n",
       "      propYes    propNo  propCantDecide               item  \\\n",
       "0    0.685714  0.200000        0.114286  Emergency Damages   \n",
       "1    1.000000  0.000000        0.000000  Emergency Damages   \n",
       "2    0.421053  0.473684        0.105263  Emergency Damages   \n",
       "3    0.548387  0.451613        0.000000  Emergency Damages   \n",
       "4    1.000000  0.000000        0.000000  Emergency Damages   \n",
       "..        ...       ...             ...                ...   \n",
       "133  1.000000  0.000000        0.000000      Vehicle Theft   \n",
       "134  0.000000  1.000000        0.000000      Vehicle Theft   \n",
       "135  0.615385  0.307692        0.076923        Wind Damage   \n",
       "136  1.000000  0.000000        0.000000        Wind Damage   \n",
       "137  0.200000  0.771429        0.028571        Wind Damage   \n",
       "\n",
       "                                                header  \\\n",
       "0    Joanne's home insurance covers \"Emergency Dama...   \n",
       "1    Joanne's home insurance covers \"Emergency Dama...   \n",
       "2    Joanne's home insurance covers \"Emergency Dama...   \n",
       "3    Salma's home insurance covers \"Emergency Damag...   \n",
       "4    Salma's home insurance covers \"Emergency Damag...   \n",
       "..                                                 ...   \n",
       "133  Cooper's car insurance policy includes coverag...   \n",
       "134  Cooper's car insurance policy includes coverag...   \n",
       "135  Tom's home insurance policy includes coverage ...   \n",
       "136  Tom's home insurance policy includes coverage ...   \n",
       "137  Tom's home insurance policy includes coverage ...   \n",
       "\n",
       "                                          continuation completion  index  \\\n",
       "0    Late one night, Joanne hears loud crashing noi...         70      0   \n",
       "1    Late one night, Joanne hears loud crashing noi...        100      1   \n",
       "2    Late one night, Joanne hears loud crashing noi...         40      2   \n",
       "3    Late one night, Salma hears noises coming from...         50      3   \n",
       "4    Late one night, Salma hears noises coming from...        100      4   \n",
       "..                                                 ...        ...    ...   \n",
       "133  Cooper, who keeps a GPS tracking device in his...        100    133   \n",
       "134  Cooper, who doesn't keep a GPS tracking device...          0    134   \n",
       "135  Tom's house is located near a large lake. One ...         60    135   \n",
       "136  Tom's house is located near a large lake. One ...        100    136   \n",
       "137  Tom's house is located near a large lake. One ...         20    137   \n",
       "\n",
       "                                      prompt_noexample  \\\n",
       "0    QUESTION: Joanne's home insurance covers \"Emer...   \n",
       "1    QUESTION: Joanne's home insurance covers \"Emer...   \n",
       "2    QUESTION: Joanne's home insurance covers \"Emer...   \n",
       "3    QUESTION: Salma's home insurance covers \"Emerg...   \n",
       "4    QUESTION: Salma's home insurance covers \"Emerg...   \n",
       "..                                                 ...   \n",
       "133  QUESTION: Cooper's car insurance policy includ...   \n",
       "134  QUESTION: Cooper's car insurance policy includ...   \n",
       "135  QUESTION: Tom's home insurance policy includes...   \n",
       "136  QUESTION: Tom's home insurance policy includes...   \n",
       "137  QUESTION: Tom's home insurance policy includes...   \n",
       "\n",
       "                                   prompt_withexamples predictions_zeroshot  \\\n",
       "0    QUESTION: Genie has home insurance that covers...                  40    \n",
       "1    QUESTION: Genie has home insurance that covers...                  40    \n",
       "2    QUESTION: Genie has home insurance that covers...                  40    \n",
       "3    QUESTION: Genie has home insurance that covers...                  40    \n",
       "4    QUESTION: Genie has home insurance that covers...                  40    \n",
       "..                                                 ...                  ...   \n",
       "133  QUESTION: Genie has home insurance that covers...                   0    \n",
       "134  QUESTION: Genie has home insurance that covers...                   0    \n",
       "135  QUESTION: Genie has home insurance that covers...                  40    \n",
       "136  QUESTION: Genie has home insurance that covers...                  40    \n",
       "137  QUESTION: Genie has home insurance that covers...                  40    \n",
       "\n",
       "    predictions_fewshot  \n",
       "0                   40   \n",
       "1                   40   \n",
       "2                   40   \n",
       "3                   40   \n",
       "4                   40   \n",
       "..                  ...  \n",
       "133                 40   \n",
       "134                 40   \n",
       "135                 40   \n",
       "136                 40   \n",
       "137                 40   \n",
       "\n",
       "[129 rows x 17 columns]"
      ]
     },
     "execution_count": 16,
     "metadata": {},
     "output_type": "execute_result"
    }
   ],
   "source": [
    "evalSet"
   ]
  },
  {
   "cell_type": "code",
   "execution_count": 19,
   "metadata": {},
   "outputs": [
    {
     "data": {
      "text/plain": [
       "array([40, 40, 40, 40, 40, 40, 40, 40, 40, 40,  0,  0, 40, 40, 40, 40, 40,\n",
       "       40, 40, 40, 40, 40, 40, 40, 40,  0,  0, 40, 40, 40, 40, 40, 40, 40,\n",
       "       40, 40, 40, 40, 40, 40, 40, 40, 40, 40, 40, 40, 40, 40, 40,  0, 40,\n",
       "       40, 40, 40, 40, 40, 40, 40,  0, 40, 40, 40, 40, 40, 40, 40, 40, 40,\n",
       "       40, 40, 40, 40,  0, 40, 40, 40, 40, 40, 40, 40, 40,  0, 40,  0, 40,\n",
       "       40,  0, 40, 40, 40, 40, 40, 40, 40, 40, 40, 40, 40, 40, 50, 50, 50,\n",
       "       40, 40, 40, 40, 40, 40, 40, 40, 40, 40, 40, 40, 40, 40, 40, 40, 40,\n",
       "       40, 40, 40, 40,  0,  0,  0, 40, 40, 40])"
      ]
     },
     "execution_count": 19,
     "metadata": {},
     "output_type": "execute_result"
    }
   ],
   "source": [
    "zeroShotPredictions"
   ]
  },
  {
   "cell_type": "code",
   "execution_count": 18,
   "metadata": {},
   "outputs": [
    {
     "data": {
      "text/plain": [
       "1289.922480620155"
      ]
     },
     "execution_count": 18,
     "metadata": {},
     "output_type": "execute_result"
    }
   ],
   "source": [
    "np.square(np.subtract(goldLabels, fewShotPredictions)).mean()"
   ]
  },
  {
   "cell_type": "code",
   "execution_count": 20,
   "metadata": {},
   "outputs": [
    {
     "data": {
      "text/plain": [
       "1580.6201550387598"
      ]
     },
     "execution_count": 20,
     "metadata": {},
     "output_type": "execute_result"
    }
   ],
   "source": [
    "np.square(np.subtract(goldLabels, zeroShotPredictions)).mean()"
   ]
  },
  {
   "cell_type": "code",
   "execution_count": 21,
   "metadata": {},
   "outputs": [
    {
     "data": {
      "text/plain": [
       "array([113,  57,  72])"
      ]
     },
     "execution_count": 21,
     "metadata": {},
     "output_type": "execute_result"
    }
   ],
   "source": [
    "np.random.randint(low = 0, high = len(df) - 1, size = 3)"
   ]
  },
  {
   "cell_type": "code",
   "execution_count": null,
   "metadata": {},
   "outputs": [],
   "source": [
    "# Create a discrete set of categories from the 'propYes' column (because OpenAI API does not yet support regression).\n",
    "# The OpenAI API also does not yet support ordinal classification, so we will restrict our focus to 3 categories. \n",
    "# The category column must be called 'completion' for the purposes of fine-tuning. \n",
    "# Note: whitespace added before label\n",
    "df[\"completion\"] = df.apply(lambda x : \" yes\" if x[\"propYes\"] > 0.75 else (\" no\" if x[\"propYes\"] < 0.25 else \" either\"),\n",
    "                           axis = 1)\n",
    "df[\"completion\"].value_counts()"
   ]
  },
  {
   "cell_type": "code",
   "execution_count": null,
   "metadata": {},
   "outputs": [],
   "source": [
    "# Create our prompt. \n",
    "df[\"question\"] = \"\"\"\n",
    "Assign the text to one of three categories:\n",
    "yes: More than 75% of people would agree that the claim described in the TEXT is covered under \"\"\" + df.item + \"\"\" as it appears in the policy.\n",
    "either: Between 25% and 75% would agree.\n",
    "no: Fewer than 25% would agree.\n",
    "\"\"\"\n",
    "df[\"prompt\"] = df[\"question\"] + \"TEXT: \" + df[\"header\"] + \" \" + df[\"continuation\"] + \"\\n\" + \"CATEGORY:\"\n",
    "# df[\"prompt\"][1]"
   ]
  },
  {
   "cell_type": "code",
   "execution_count": null,
   "metadata": {},
   "outputs": [],
   "source": [
    "# CREATE 10 TRAIN/TEST FOLDS \n",
    "df[\"index\"] = np.arange(len(df))\n",
    "foldIndices = np.copy(df.index)\n",
    "np.random.shuffle(foldIndices)\n",
    "folds = np.array_split(foldIndices, 10)"
   ]
  },
  {
   "cell_type": "code",
   "execution_count": null,
   "metadata": {},
   "outputs": [],
   "source": [
    "# PREPARE FINE-TUNING/EVALUATION FOR THE FIRST FOLD ON A SMALL MODEL (ADA)\n",
    "# ... first by creating train/test splits \n",
    "trainSet = df[~(np.isin(df[\"index\"],folds[0]))]\n",
    "trainSet[[\"prompt\",\"completion\"]].to_json(\"data/train1.jsonl\", orient='records', lines=True)\n",
    "testSet = df[np.isin(df[\"index\"],folds[0])]\n",
    "testSet.to_json(\"data/test1.jsonl\", orient='records', lines=True)"
   ]
  },
  {
   "cell_type": "code",
   "execution_count": null,
   "metadata": {},
   "outputs": [],
   "source": [
    "testSet.tail()"
   ]
  },
  {
   "cell_type": "code",
   "execution_count": null,
   "metadata": {},
   "outputs": [],
   "source": [
    "# OPTIONAL: Make sure we're using the most recent OpenAI cli. (0.26.4)\n",
    "# !pip install --upgrade openai"
   ]
  },
  {
   "cell_type": "code",
   "execution_count": null,
   "metadata": {},
   "outputs": [],
   "source": [
    "# OPTIONAL: analyze training data with OpenAI's built-in CLI tool. Should pass. OpenAI asks if we want to split into a training and validation set, which we don't (we'll do that ourselves).\n",
    "# !openai tools fine_tunes.prepare_data -f data/train1.jsonl"
   ]
  },
  {
   "cell_type": "code",
   "execution_count": null,
   "metadata": {},
   "outputs": [],
   "source": [
    "!openai api fine_tunes.create -t \"data/train1.jsonl\" -m curie --learning_rate_multiplier 0.02"
   ]
  },
  {
   "cell_type": "code",
   "execution_count": null,
   "metadata": {},
   "outputs": [],
   "source": [
    "!openai api fine_tunes.follow -i ft-YMF91KpPbOLRCxk6p1qPYUM2"
   ]
  },
  {
   "cell_type": "code",
   "execution_count": null,
   "metadata": {},
   "outputs": [],
   "source": [
    "# EVALUATE ON THE TEST SET FOR THE FOLD:\n",
    "testSet_curie = pandas.read_json(\"data/test1.jsonl\", orient='records', lines=True)[[\"title\",\"version\",\"prompt\",\"completion\"]]\n",
    "testSet_curie.head()"
   ]
  },
  {
   "cell_type": "code",
   "execution_count": null,
   "metadata": {},
   "outputs": [],
   "source": [
    "# {'yes': [3763], 'no': [645], 'either': [2035]}\n",
    "testSet_curie[\"ft_prediction\"] = testSet_curie.apply(lambda x : openai.Completion.create(model=\"curie:ft-stanford-2023-01-27-07-38-51\", \n",
    "                                    prompt=x[\"prompt\"],   \n",
    "                                    logit_bias={3763:100,645:100,2035:100},  \n",
    "                                    temperature=0, max_tokens=1).choices[0].text, axis = 1)"
   ]
  },
  {
   "cell_type": "code",
   "execution_count": null,
   "metadata": {},
   "outputs": [],
   "source": [
    "# {'yes': [3763], 'no': [645], 'either': [2035]}\n",
    "testSet_curie[\"untuned_prediction\"] = testSet_curie.apply(lambda x : openai.Completion.create(model=\"curie\", \n",
    "                                    prompt=x[\"prompt\"],       \n",
    "                                    logit_bias={3763:100,645:100,2035:100},                                                     \n",
    "                                    temperature=0, max_tokens=1).choices[0].text, axis = 1)"
   ]
  },
  {
   "cell_type": "code",
   "execution_count": null,
   "metadata": {},
   "outputs": [],
   "source": [
    "testSet_curie[\"fold\"] = 1\n",
    "testSet_curie[\"model\"] = \"curie:ft-stanford-2023-01-27-07-38-51\"\n",
    "testSet_curie"
   ]
  },
  {
   "cell_type": "code",
   "execution_count": null,
   "metadata": {},
   "outputs": [],
   "source": [
    "fineTuneRecords_curie = pandas.DataFrame(data = {\"fold\" : [1], \"file\": [\"file-rn56S6fKQas8CUCG7DcRrk8a\"], \"ft\": [\"ft-eZgp39Ha4EW0z1cT8EaUQy8m\"]})"
   ]
  },
  {
   "cell_type": "code",
   "execution_count": null,
   "metadata": {},
   "outputs": [],
   "source": [
    "# CREATE TRAIN/TEST SPLITS FOR THE REMAINING 9 FOLDS\n",
    "for i in range(1,10):\n",
    "    trainSet = df[~(np.isin(df[\"index\"],folds[i]))]\n",
    "    trainSet[[\"prompt\",\"completion\"]].to_json(\"data/train\" + str(i+1) + \".jsonl\", orient='records', lines=True)\n",
    "    testSet = df[np.isin(df[\"index\"],folds[i])]\n",
    "    testSet.to_json(\"data/test\" + str(i+1) + \".jsonl\", orient='records', lines=True)"
   ]
  },
  {
   "cell_type": "code",
   "execution_count": null,
   "metadata": {
    "scrolled": true
   },
   "outputs": [],
   "source": [
    "# CREATE FINE-TUNE REQUESTS FOR REMAINING 9 FOLDS (USING THE PYTHON API RATHER THAN CLI)\n",
    "for i in range(1,10):\n",
    "    fileCreateCallBack = openai.File.create(\n",
    "        file=(pandas.read_json(\"data/train\" + str(i+1) + \".jsonl\", orient = 'records', lines = True)).to_json(orient = \"records\", lines=True),\n",
    "        purpose='fine-tune'\n",
    "    )\n",
    "    fineTuneCreateCallBack = openai.FineTune.create(\n",
    "        training_file=fileCreateCallBack.id, \n",
    "        model = \"curie\",\n",
    "        learning_rate_multiplier = 0.02\n",
    "    )\n",
    "    fineTuneRecords_curie = fineTuneRecords_curie.append({\"fold\": i + 1, \"file\": fileCreateCallBack.id, \"ft\": fineTuneCreateCallBack.id}, ignore_index = True)"
   ]
  },
  {
   "cell_type": "code",
   "execution_count": null,
   "metadata": {
    "scrolled": true
   },
   "outputs": [],
   "source": [
    "fineTuneRecords_curie"
   ]
  },
  {
   "cell_type": "code",
   "execution_count": null,
   "metadata": {
    "scrolled": false
   },
   "outputs": [],
   "source": [
    "!openai api fine_tunes.follow -i ft-RwIzE0zm26DeFyfOAhAXE66n"
   ]
  },
  {
   "cell_type": "code",
   "execution_count": null,
   "metadata": {},
   "outputs": [],
   "source": [
    "# CREATE A DATAFRAME WITH COLUMNS: TITLE, VERSION, PROMPT, COMPLETION, FT_PREDICITON, UNTUNED_PREDICTION, FOLD, MODEL\n",
    "results_curie = pandas.DataFrame(data = {\"title\":[], \"version\":[], \"prompt\":[], \n",
    "                           \"completion\":[], \"ft_prediction\":[], \"untuned_prediction\":[], \"fold\": [], \"model\": []})"
   ]
  },
  {
   "cell_type": "code",
   "execution_count": null,
   "metadata": {},
   "outputs": [],
   "source": [
    "results_curie = pandas.concat([results_curie,testSet_curie])\n",
    "results_curie"
   ]
  },
  {
   "cell_type": "code",
   "execution_count": null,
   "metadata": {},
   "outputs": [],
   "source": [
    "# Make an ordered array of fine-tuned model names \n",
    "fineTuneRecords_curie[\"model\"] = \"None\"\n",
    "for i in range(0,10): #range(1,10)\n",
    "    fineTuneRecords_curie[\"model\"][i] = (openai.FineTune.retrieve(fineTuneRecords_curie[\"ft\"][i]).fine_tuned_model)\n",
    "fineTuneRecords_curie.to_csv(\"fineTuneRecords_curie.csv\")\n",
    "fineTuneRecords_curie"
   ]
  },
  {
   "cell_type": "code",
   "execution_count": null,
   "metadata": {},
   "outputs": [],
   "source": [
    "# GET FINE-TUNE AND UNTUNED PREDICTIONS FOR REMAINING 9 FOLDS (USING THE PYTHON API RATHER THAN CLI)\n",
    "for i in range(1,10):\n",
    "    testSet = pandas.read_json(\"data/test\" + str(i+1) + \".jsonl\", orient='records', lines=True)[[\"title\",\"version\",\"prompt\",\"completion\"]]\n",
    "    testSet[\"ft_prediction\"] = testSet.apply(lambda x : openai.Completion.create(model=fineTuneRecords_curie[\"model\"][i], \n",
    "                                    prompt=x[\"prompt\"],\n",
    "                                    logit_bias={3763:100,645:100,8627:100},\n",
    "                                    temperature=0, max_tokens=1).choices[0].text, axis = 1)\n",
    "    testSet[\"untuned_prediction\"] = testSet.apply(lambda x : openai.Completion.create(model=\"ada\", \n",
    "                                    prompt=x[\"prompt\"],\n",
    "                                    logit_bias={3763:100,645:100,8627:100},\n",
    "                                    temperature=0, max_tokens=1).choices[0].text, axis = 1)\n",
    "    testSet[\"fold\"] = i + 1\n",
    "    testSet[\"model\"] = fineTuneRecords_curie[\"model\"][i]\n",
    "    results_curie = pandas.concat([results_curie,testSet])"
   ]
  },
  {
   "cell_type": "code",
   "execution_count": null,
   "metadata": {},
   "outputs": [],
   "source": [
    "results_curie"
   ]
  },
  {
   "cell_type": "code",
   "execution_count": null,
   "metadata": {},
   "outputs": [],
   "source": [
    "results_curie.to_csv(\"results_curie.csv\")"
   ]
  },
  {
   "cell_type": "code",
   "execution_count": null,
   "metadata": {},
   "outputs": [],
   "source": [
    "# DAVINCI"
   ]
  },
  {
   "cell_type": "code",
   "execution_count": null,
   "metadata": {},
   "outputs": [],
   "source": [
    "!openai api fine_tunes.create -t \"data/train1.jsonl\" -m davinci --learning_rate_multiplier 0.05"
   ]
  },
  {
   "cell_type": "code",
   "execution_count": null,
   "metadata": {},
   "outputs": [],
   "source": [
    "!openai api fine_tunes.follow -i ft-00eLrl2gDrWYJs47EedcGRIZ"
   ]
  },
  {
   "cell_type": "code",
   "execution_count": null,
   "metadata": {},
   "outputs": [],
   "source": [
    "# EVALUATE ON THE TEST SET FOR THE FOLD:\n",
    "testSet_davinci = pandas.read_json(\"data/test1.jsonl\", orient='records', lines=True)[[\"title\",\"version\",\"prompt\",\"completion\"]]\n",
    "testSet_davinci.head()"
   ]
  },
  {
   "cell_type": "code",
   "execution_count": null,
   "metadata": {},
   "outputs": [],
   "source": [
    "testSet_davinci[\"ft_prediction\"] = testSet_davinci.apply(lambda x : openai.Completion.create(model=\"davinci:ft-stanford-2023-01-27-09-41-01\", \n",
    "                                    prompt=x[\"prompt\"],\n",
    "                                    logit_bias={3763:100,645:100,2035:100},  \n",
    "                                    temperature=0, max_tokens=1).choices[0].text, axis = 1)"
   ]
  },
  {
   "cell_type": "code",
   "execution_count": null,
   "metadata": {},
   "outputs": [],
   "source": [
    "testSet_davinci[\"untuned_prediction\"] = testSet_davinci.apply(lambda x : openai.Completion.create(model=\"davinci\", \n",
    "                                    prompt=x[\"prompt\"],\n",
    "                                    logit_bias={3763:100,645:100,2035:100},  \n",
    "                                    temperature=0, max_tokens=1).choices[0].text, axis = 1)"
   ]
  },
  {
   "cell_type": "code",
   "execution_count": null,
   "metadata": {},
   "outputs": [],
   "source": [
    "testSet_davinci[\"fold\"] = 1\n",
    "testSet_davinci[\"model\"] = \"davinci:ft-stanford-2023-01-27-09-41-01\"\n",
    "testSet_davinci"
   ]
  },
  {
   "cell_type": "code",
   "execution_count": null,
   "metadata": {},
   "outputs": [],
   "source": [
    "# CREATE A DATAFRAME WITH COLUMNS: TITLE, VERSION, PROMPT, COMPLETION, FT_PREDICITON, UNTUNED_PREDICTION, FOLD, MODEL\n",
    "results_davinci = pandas.DataFrame(data = {\"title\":[], \"version\":[], \"prompt\":[], \n",
    "                           \"completion\":[], \"ft_prediction\":[], \"untuned_prediction\":[], \"fold\": [], \"model\": []})"
   ]
  },
  {
   "cell_type": "code",
   "execution_count": null,
   "metadata": {},
   "outputs": [],
   "source": [
    "fineTuneRecords_davinci = pandas.DataFrame(data = {\"fold\" : [1], \"file\": [\"file-1NUX8m6tRVoB3sHIFY8aUPm3\"], \"ft\": [\"ft-00eLrl2gDrWYJs47EedcGRIZ\"]})"
   ]
  },
  {
   "cell_type": "code",
   "execution_count": null,
   "metadata": {},
   "outputs": [],
   "source": [
    "results_davinci = pandas.concat([testSet_davinci, results_davinci])"
   ]
  },
  {
   "cell_type": "code",
   "execution_count": null,
   "metadata": {},
   "outputs": [],
   "source": [
    "# CREATE FINE-TUNE REQUESTS FOR REMAINING 9 FOLDS (USING THE PYTHON API RATHER THAN CLI)\n",
    "for i in range(1,2):\n",
    "    fileCreateCallBack = openai.File.create(\n",
    "        file=(pandas.read_json(\"data/train\" + str(i+1) + \".jsonl\", orient = 'records', lines = True)).to_json(orient = \"records\", lines=True),\n",
    "        purpose='fine-tune'\n",
    "    )\n",
    "    fineTuneCreateCallBack = openai.FineTune.create(\n",
    "        training_file=fileCreateCallBack.id, \n",
    "        model = \"davinci\",\n",
    "        learning_rate_multiplier = 0.05\n",
    "    )\n",
    "    fineTuneRecords_davinci = fineTuneRecords_davinci.append({\"fold\": i + 1, \"file\": fileCreateCallBack.id, \"ft\": fineTuneCreateCallBack.id}, ignore_index = True)"
   ]
  },
  {
   "cell_type": "code",
   "execution_count": null,
   "metadata": {},
   "outputs": [],
   "source": [
    "# Make an ordered array of fine-tuned model names \n",
    "fineTuneRecords_davinci[\"model\"] = \"None\"\n",
    "for i in range(0,2):\n",
    "    fineTuneRecords_davinci[\"model\"][i] = (openai.FineTune.retrieve(fineTuneRecords_davinci[\"ft\"][i]).fine_tuned_model)\n",
    "fineTuneRecords_davinci.to_csv(\"fineTuneRecords_davinci.csv\")\n",
    "fineTuneRecords_davinci"
   ]
  },
  {
   "cell_type": "code",
   "execution_count": null,
   "metadata": {},
   "outputs": [],
   "source": [
    "!openai api fine_tunes.follow -i ft-hGZLzCma2pF1hKMbwQD2eWnr\t"
   ]
  },
  {
   "cell_type": "code",
   "execution_count": null,
   "metadata": {},
   "outputs": [],
   "source": [
    "# GET FINE-TUNE AND UNTUNED PREDICTIONS FOR REMAINING 9 FOLDS (USING THE PYTHON API RATHER THAN CLI)\n",
    "for i in range(1,2):\n",
    "    testSet = pandas.read_json(\"data/test\" + str(i+1) + \".jsonl\", orient='records', lines=True)[[\"title\",\"version\",\"prompt\",\"completion\"]]\n",
    "    testSet[\"ft_prediction\"] = testSet.apply(lambda x : openai.Completion.create(model=fineTuneRecords_davinci[\"model\"][i], \n",
    "                                    prompt=x[\"prompt\"],\n",
    "                                    logit_bias={3763:100,645:100,2035:100},\n",
    "                                    temperature=0, max_tokens=1).choices[0].text, axis = 1)\n",
    "    testSet[\"untuned_prediction\"] = testSet.apply(lambda x : openai.Completion.create(model=\"davinci\", \n",
    "                                    prompt=x[\"prompt\"],\n",
    "                                    logit_bias={3763:100,645:100,2035:100},\n",
    "                                    temperature=0, max_tokens=1).choices[0].text, axis = 1)\n",
    "    testSet[\"fold\"] = i + 1\n",
    "    testSet[\"model\"] = fineTuneRecords_davinci[\"model\"][i]\n",
    "    results_davinci = pandas.concat([results_davinci,testSet])"
   ]
  },
  {
   "cell_type": "code",
   "execution_count": null,
   "metadata": {},
   "outputs": [],
   "source": [
    "results_davinci"
   ]
  },
  {
   "cell_type": "code",
   "execution_count": null,
   "metadata": {},
   "outputs": [],
   "source": []
  }
 ],
 "metadata": {
  "kernelspec": {
   "display_name": "falseConsensus",
   "language": "python",
   "name": "falseconsensus"
  },
  "language_info": {
   "codemirror_mode": {
    "name": "ipython",
    "version": 3
   },
   "file_extension": ".py",
   "mimetype": "text/x-python",
   "name": "python",
   "nbconvert_exporter": "python",
   "pygments_lexer": "ipython3",
   "version": "3.10.8"
  }
 },
 "nbformat": 4,
 "nbformat_minor": 2
}
