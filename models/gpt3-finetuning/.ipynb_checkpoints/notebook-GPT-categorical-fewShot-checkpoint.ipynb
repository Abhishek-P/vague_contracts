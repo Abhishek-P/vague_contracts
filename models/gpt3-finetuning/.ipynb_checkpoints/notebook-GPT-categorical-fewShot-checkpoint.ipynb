{
 "cells": [
  {
   "cell_type": "code",
   "execution_count": 84,
   "metadata": {},
   "outputs": [],
   "source": [
    "import openai\n",
    "import os\n",
    "import pandas\n",
    "import numpy as np\n",
    "openai.api_key = os.getenv(\"OPENAI_API_KEY\")"
   ]
  },
  {
   "cell_type": "code",
   "execution_count": 85,
   "metadata": {},
   "outputs": [],
   "source": [
    "prompts = pandas.read_csv(\"stimuli.csv\").query(\"avoid==False\")\n",
    "prompts.head(1)\n",
    "prompts.rename(columns={'Title':'title'}, inplace=True)"
   ]
  },
  {
   "cell_type": "code",
   "execution_count": 86,
   "metadata": {
    "scrolled": true
   },
   "outputs": [],
   "source": [
    "preamble_noexample = \"\"\"\n",
    "Provide a label for the text from one of the following options: \"uncontroversially covered\", \"uncontroversially not covered\", \"vague\". \n",
    "\"definitely covered\": most people would think that the damage described in the text is covered by the individual's insurance.\n",
    "\"definitely not covered\": most people would think that the damage described in the text is NOT covered by the individual's insurance.\n",
    "\"vague\": there are two plausible interpretations of the text: one interpretation that suggests the individual is covered, and one interpretation that suggests the individual is not covered.\n",
    "\"\"\"\n",
    "preamble_withexample = \"\"\"\n",
    "Provide a label for the text from one of the following options: \"uncontroversially covered\", \"uncontroversially not covered\", \"vague\". \n",
    "\"definitely covered\": most people would think that the damage described in the text is covered by the individual's insurance.\n",
    "\"definitely not covered\": most people would think that the damage described in the text is NOT covered by the individual's insurance.\n",
    "\"vague\": there are two plausible interpretations of the text: one interpretation that suggests the individual is covered, and one interpretation that suggests the individual is not covered.\n",
    "\n",
    "EXAMPLE 1:  \n",
    "Rebecca has insurance that covers \"Flooding\" to her building, defined as <b>\"an invasion of the property by a large volume of water caused by a rapid build-up from outside the buildings.\"</b>\n",
    "Rebecca lives in a house situated next to a small creek. The water level of the creek gradually rises over the course of several years, and one day Rebecca notices that water from the creek has begun to collect in her basement and cause significant damage. Rebecca files a claim with her insurance company for the damage. However, the insurance company denies Rebecca's claim, arguing that the damage is not covered.\n",
    "LABEL: \"definitely not covered\"\n",
    "\n",
    "---\n",
    "\n",
    "EXAMPLE 2:  \n",
    "Rebecca has insurance that covers \"Flooding\" to her building, defined as <b>\"an invasion of the property by a large volume of water caused by a rapid build-up from outside the buildings.\"</b>\n",
    "Rebecca lives in a house situated next to a small creek. The water level of the creek quickly rises over the course of a few hours during a storm, and Rebecca notices that water from the creek has begun to collect in her basement and cause significant damage. Rebecca files a claim with her insurance company for the damage. However, the insurance company denies Rebecca's claim, arguing that the damage is not covered.\n",
    "LABEL: \"definitely covered\"\n",
    "\n",
    "---\n",
    "\n",
    "EXAMPLE 3:\n",
    "Rebecca has insurance that covers \"Flooding\" to her building, defined as <b>\"an invasion of the property by a large volume of water caused by a rapid build-up from outside the buildings.\"</b>\n",
    "Rebecca lives in a house situated next to a small creek. The water level of the creek gradually rises over the course of about a week, and one day Rebecca notices that water from the creek has begun to collect in her basement and cause significant damage. Rebecca files a claim with her insurance company for the damage. However, the insurance company denies Rebecca's claim, arguing that the damage is not covered.\n",
    "LABEL: \"vague\"\n",
    "\n",
    "\"\"\"\n",
    "prompts[\"prompt_noexample\"] = preamble_noexample + prompts.header + \"\\n\" + prompts.continuation + \"\\n LABEL: \"\n",
    "prompts[\"prompt_withexample\"] = preamble_withexample + prompts.header + \"\\n\" + prompts.continuation + \"\\n LABEL: \"\n",
    "\n",
    "prompts.rename(columns={'version':'expected_completion'}, inplace=True)\n",
    "df_noexample = prompts[[\"item\",\"title\",\"prompt_noexample\",\"expected_completion\"]]\n",
    "df_withexample = prompts[[\"item\",\"title\",\"prompt_withexample\",\"expected_completion\"]]"
   ]
  },
  {
   "cell_type": "code",
   "execution_count": 87,
   "metadata": {},
   "outputs": [],
   "source": [
    "df_noexample_half1 = df_noexample.head(19*3).copy(deep=True)\n",
    "df_noexample_half1[\"prediction\"] = df_noexample_half1.apply(lambda x: openai.Completion.create(model=\"text-davinci-003\", \n",
    "                                    prompt=x[\"prompt_noexample\"],\n",
    "                                    temperature=0, max_tokens=12).choices[0].text, axis=1 )"
   ]
  },
  {
   "cell_type": "code",
   "execution_count": 88,
   "metadata": {},
   "outputs": [],
   "source": [
    "df_noexample_half2 = df_noexample.tail(18*3).copy(deep=True)\n",
    "df_noexample_half2[\"prediction\"] = df_noexample_half2.apply(lambda x: openai.Completion.create(model=\"text-davinci-003\", \n",
    "                                    prompt=x[\"prompt_noexample\"],\n",
    "                                    temperature=0, max_tokens=12).choices[0].text, axis=1 )"
   ]
  },
  {
   "cell_type": "code",
   "execution_count": 89,
   "metadata": {},
   "outputs": [],
   "source": [
    "df_noexample_withPredictions = pandas.concat([df_noexample_half1,df_noexample_half2])"
   ]
  },
  {
   "cell_type": "code",
   "execution_count": 90,
   "metadata": {
    "scrolled": true
   },
   "outputs": [
    {
     "data": {
      "text/html": [
       "<div>\n",
       "<style scoped>\n",
       "    .dataframe tbody tr th:only-of-type {\n",
       "        vertical-align: middle;\n",
       "    }\n",
       "\n",
       "    .dataframe tbody tr th {\n",
       "        vertical-align: top;\n",
       "    }\n",
       "\n",
       "    .dataframe thead th {\n",
       "        text-align: right;\n",
       "    }\n",
       "</style>\n",
       "<table border=\"1\" class=\"dataframe\">\n",
       "  <thead>\n",
       "    <tr style=\"text-align: right;\">\n",
       "      <th></th>\n",
       "      <th>item</th>\n",
       "      <th>title</th>\n",
       "      <th>prompt_noexample</th>\n",
       "      <th>expected_completion</th>\n",
       "      <th>prediction</th>\n",
       "    </tr>\n",
       "  </thead>\n",
       "  <tbody>\n",
       "    <tr>\n",
       "      <th>0</th>\n",
       "      <td>Emergency Damage</td>\n",
       "      <td>Emergency Damage I</td>\n",
       "      <td>\\nProvide a label for the text from one of the...</td>\n",
       "      <td>unambiguous_uncovered</td>\n",
       "      <td>Uncertain</td>\n",
       "    </tr>\n",
       "    <tr>\n",
       "      <th>1</th>\n",
       "      <td>Emergency Damage</td>\n",
       "      <td>Emergency Damage I</td>\n",
       "      <td>\\nProvide a label for the text from one of the...</td>\n",
       "      <td>unambiguous_covered</td>\n",
       "      <td>Uncertain</td>\n",
       "    </tr>\n",
       "    <tr>\n",
       "      <th>2</th>\n",
       "      <td>Emergency Damage</td>\n",
       "      <td>Emergency Damage I</td>\n",
       "      <td>\\nProvide a label for the text from one of the...</td>\n",
       "      <td>controversial</td>\n",
       "      <td>Uncertain</td>\n",
       "    </tr>\n",
       "    <tr>\n",
       "      <th>3</th>\n",
       "      <td>Emergency Damage</td>\n",
       "      <td>Emergency Damage II</td>\n",
       "      <td>\\nProvide a label for the text from one of the...</td>\n",
       "      <td>unambiguous_uncovered</td>\n",
       "      <td>Uncertain</td>\n",
       "    </tr>\n",
       "    <tr>\n",
       "      <th>4</th>\n",
       "      <td>Emergency Damage</td>\n",
       "      <td>Emergency Damage II</td>\n",
       "      <td>\\nProvide a label for the text from one of the...</td>\n",
       "      <td>unambiguous_covered</td>\n",
       "      <td>Uncertain</td>\n",
       "    </tr>\n",
       "    <tr>\n",
       "      <th>...</th>\n",
       "      <td>...</td>\n",
       "      <td>...</td>\n",
       "      <td>...</td>\n",
       "      <td>...</td>\n",
       "      <td>...</td>\n",
       "    </tr>\n",
       "    <tr>\n",
       "      <th>148</th>\n",
       "      <td>Vehicle Glass</td>\n",
       "      <td>Vehicle Glass I</td>\n",
       "      <td>\\nProvide a label for the text from one of the...</td>\n",
       "      <td>unambiguous_covered</td>\n",
       "      <td>Uncertain</td>\n",
       "    </tr>\n",
       "    <tr>\n",
       "      <th>149</th>\n",
       "      <td>Vehicle Glass</td>\n",
       "      <td>Vehicle Glass I</td>\n",
       "      <td>\\nProvide a label for the text from one of the...</td>\n",
       "      <td>controversial</td>\n",
       "      <td>Uncertain</td>\n",
       "    </tr>\n",
       "    <tr>\n",
       "      <th>150</th>\n",
       "      <td>Vehicle Glass</td>\n",
       "      <td>Vehicle Glass II</td>\n",
       "      <td>\\nProvide a label for the text from one of the...</td>\n",
       "      <td>unambiguous_uncovered</td>\n",
       "      <td>Uncertain</td>\n",
       "    </tr>\n",
       "    <tr>\n",
       "      <th>151</th>\n",
       "      <td>Vehicle Glass</td>\n",
       "      <td>Vehicle Glass II</td>\n",
       "      <td>\\nProvide a label for the text from one of the...</td>\n",
       "      <td>unambiguous_covered</td>\n",
       "      <td>Uncertain</td>\n",
       "    </tr>\n",
       "    <tr>\n",
       "      <th>152</th>\n",
       "      <td>Vehicle Glass</td>\n",
       "      <td>Vehicle Glass II</td>\n",
       "      <td>\\nProvide a label for the text from one of the...</td>\n",
       "      <td>controversial</td>\n",
       "      <td>Uncertain</td>\n",
       "    </tr>\n",
       "  </tbody>\n",
       "</table>\n",
       "<p>111 rows × 5 columns</p>\n",
       "</div>"
      ],
      "text/plain": [
       "                 item                title  \\\n",
       "0    Emergency Damage   Emergency Damage I   \n",
       "1    Emergency Damage   Emergency Damage I   \n",
       "2    Emergency Damage   Emergency Damage I   \n",
       "3    Emergency Damage  Emergency Damage II   \n",
       "4    Emergency Damage  Emergency Damage II   \n",
       "..                ...                  ...   \n",
       "148     Vehicle Glass      Vehicle Glass I   \n",
       "149     Vehicle Glass      Vehicle Glass I   \n",
       "150     Vehicle Glass     Vehicle Glass II   \n",
       "151     Vehicle Glass     Vehicle Glass II   \n",
       "152     Vehicle Glass     Vehicle Glass II   \n",
       "\n",
       "                                      prompt_noexample    expected_completion  \\\n",
       "0    \\nProvide a label for the text from one of the...  unambiguous_uncovered   \n",
       "1    \\nProvide a label for the text from one of the...    unambiguous_covered   \n",
       "2    \\nProvide a label for the text from one of the...          controversial   \n",
       "3    \\nProvide a label for the text from one of the...  unambiguous_uncovered   \n",
       "4    \\nProvide a label for the text from one of the...    unambiguous_covered   \n",
       "..                                                 ...                    ...   \n",
       "148  \\nProvide a label for the text from one of the...    unambiguous_covered   \n",
       "149  \\nProvide a label for the text from one of the...          controversial   \n",
       "150  \\nProvide a label for the text from one of the...  unambiguous_uncovered   \n",
       "151  \\nProvide a label for the text from one of the...    unambiguous_covered   \n",
       "152  \\nProvide a label for the text from one of the...          controversial   \n",
       "\n",
       "     prediction  \n",
       "0     Uncertain  \n",
       "1     Uncertain  \n",
       "2     Uncertain  \n",
       "3     Uncertain  \n",
       "4     Uncertain  \n",
       "..          ...  \n",
       "148   Uncertain  \n",
       "149   Uncertain  \n",
       "150   Uncertain  \n",
       "151   Uncertain  \n",
       "152   Uncertain  \n",
       "\n",
       "[111 rows x 5 columns]"
      ]
     },
     "execution_count": 90,
     "metadata": {},
     "output_type": "execute_result"
    }
   ],
   "source": [
    "df_noexample_withPredictions"
   ]
  },
  {
   "cell_type": "code",
   "execution_count": 91,
   "metadata": {},
   "outputs": [],
   "source": [
    "df_noexample_withPredictions.to_csv(\"predictions_noexample.csv\")"
   ]
  },
  {
   "cell_type": "code",
   "execution_count": 92,
   "metadata": {},
   "outputs": [],
   "source": [
    "df_withexample_half1 = df_withexample.head(19*3).copy(deep=True)\n",
    "df_withexample_half1[\"prediction\"] = df_withexample_half1.apply(lambda x: openai.Completion.create(model=\"text-davinci-003\", \n",
    "                                    prompt=x[\"prompt_withexample\"],\n",
    "                                    temperature=0, max_tokens=12).choices[0].text, axis=1 )"
   ]
  },
  {
   "cell_type": "code",
   "execution_count": 93,
   "metadata": {},
   "outputs": [],
   "source": [
    "df_withexample_half2 = df_withexample.tail(18*3).copy(deep=True)\n",
    "df_withexample_half2[\"prediction\"] = df_withexample_half2.apply(lambda x: openai.Completion.create(model=\"text-davinci-003\", \n",
    "                                    prompt=x[\"prompt_withexample\"],\n",
    "                                    temperature=0, max_tokens=12).choices[0].text, axis=1 )"
   ]
  },
  {
   "cell_type": "code",
   "execution_count": 94,
   "metadata": {},
   "outputs": [],
   "source": [
    "df_withexample_withPredictions = pandas.concat([df_withexample_half1,df_withexample_half2])\n",
    "df_withexample_withPredictions.to_csv(\"predictions_withexample.csv\")"
   ]
  }
 ],
 "metadata": {
  "kernelspec": {
   "display_name": "falseConsensus",
   "language": "python",
   "name": "falseconsensus"
  },
  "language_info": {
   "codemirror_mode": {
    "name": "ipython",
    "version": 3
   },
   "file_extension": ".py",
   "mimetype": "text/x-python",
   "name": "python",
   "nbconvert_exporter": "python",
   "pygments_lexer": "ipython3",
   "version": "3.10.8"
  }
 },
 "nbformat": 4,
 "nbformat_minor": 5
}
