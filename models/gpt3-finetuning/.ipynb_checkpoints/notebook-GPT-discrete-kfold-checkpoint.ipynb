{
 "cells": [
  {
   "cell_type": "code",
   "execution_count": 2,
   "metadata": {},
   "outputs": [],
   "source": [
    "import openai\n",
    "import os\n",
    "import pandas\n",
    "import numpy as np\n",
    "openai.api_key = os.getenv(\"OPENAI_API_KEY\")\n",
    "np.random.seed(1)"
   ]
  },
  {
   "cell_type": "code",
   "execution_count": 3,
   "metadata": {},
   "outputs": [
    {
     "data": {
      "text/html": [
       "<div>\n",
       "<style scoped>\n",
       "    .dataframe tbody tr th:only-of-type {\n",
       "        vertical-align: middle;\n",
       "    }\n",
       "\n",
       "    .dataframe tbody tr th {\n",
       "        vertical-align: top;\n",
       "    }\n",
       "\n",
       "    .dataframe thead th {\n",
       "        text-align: right;\n",
       "    }\n",
       "</style>\n",
       "<table border=\"1\" class=\"dataframe\">\n",
       "  <thead>\n",
       "    <tr style=\"text-align: right;\">\n",
       "      <th></th>\n",
       "      <th>title</th>\n",
       "      <th>version</th>\n",
       "      <th>nYes</th>\n",
       "      <th>nNo</th>\n",
       "      <th>nCantDecide</th>\n",
       "      <th>propYes</th>\n",
       "      <th>propNo</th>\n",
       "      <th>propCantDecide</th>\n",
       "      <th>item</th>\n",
       "      <th>header</th>\n",
       "      <th>continuation</th>\n",
       "    </tr>\n",
       "  </thead>\n",
       "  <tbody>\n",
       "    <tr>\n",
       "      <th>0</th>\n",
       "      <td>Emergency Damages I</td>\n",
       "      <td>controversial</td>\n",
       "      <td>24</td>\n",
       "      <td>7</td>\n",
       "      <td>4</td>\n",
       "      <td>0.685714</td>\n",
       "      <td>0.2</td>\n",
       "      <td>0.114286</td>\n",
       "      <td>Emergency Damages</td>\n",
       "      <td>Joanne's home insurance covers \"Emergency Dama...</td>\n",
       "      <td>Late one night, Joanne hears loud crashing noi...</td>\n",
       "    </tr>\n",
       "  </tbody>\n",
       "</table>\n",
       "</div>"
      ],
      "text/plain": [
       "                 title        version  nYes  nNo  nCantDecide   propYes  \\\n",
       "0  Emergency Damages I  controversial    24    7            4  0.685714   \n",
       "\n",
       "   propNo  propCantDecide               item  \\\n",
       "0     0.2        0.114286  Emergency Damages   \n",
       "\n",
       "                                              header  \\\n",
       "0  Joanne's home insurance covers \"Emergency Dama...   \n",
       "\n",
       "                                        continuation  \n",
       "0  Late one night, Joanne hears loud crashing noi...  "
      ]
     },
     "execution_count": 3,
     "metadata": {},
     "output_type": "execute_result"
    }
   ],
   "source": [
    "d = pandas.read_csv(\"../../results/1_falseconsensus/fineTuneDataSet.csv\")\n",
    "d.head(1) \n",
    "# prompts.head(1)"
   ]
  },
  {
   "cell_type": "code",
   "execution_count": 4,
   "metadata": {
    "scrolled": true
   },
   "outputs": [],
   "source": [
    "d[\"question\"] = \"Out of 100 randomly-surveyed people, estimate how many would believe that the claim described in the TEXT is covered under \" + d.item + \"as it appears in the policy.\""
   ]
  },
  {
   "cell_type": "code",
   "execution_count": 5,
   "metadata": {},
   "outputs": [],
   "source": [
    "d[\"promptNoExample\"] = \"TEXT: \" + d[\"header\"] + d[\"continuation\"] + \"\\n\" + d.question + \"\\n\" + \"ESTIMATE (out of 100): \""
   ]
  },
  {
   "cell_type": "code",
   "execution_count": 6,
   "metadata": {},
   "outputs": [
    {
     "data": {
      "text/html": [
       "<div>\n",
       "<style scoped>\n",
       "    .dataframe tbody tr th:only-of-type {\n",
       "        vertical-align: middle;\n",
       "    }\n",
       "\n",
       "    .dataframe tbody tr th {\n",
       "        vertical-align: top;\n",
       "    }\n",
       "\n",
       "    .dataframe thead th {\n",
       "        text-align: right;\n",
       "    }\n",
       "</style>\n",
       "<table border=\"1\" class=\"dataframe\">\n",
       "  <thead>\n",
       "    <tr style=\"text-align: right;\">\n",
       "      <th></th>\n",
       "      <th>title</th>\n",
       "      <th>version</th>\n",
       "      <th>nYes</th>\n",
       "      <th>nNo</th>\n",
       "      <th>nCantDecide</th>\n",
       "      <th>propYes</th>\n",
       "      <th>propNo</th>\n",
       "      <th>propCantDecide</th>\n",
       "      <th>item</th>\n",
       "      <th>header</th>\n",
       "      <th>continuation</th>\n",
       "      <th>question</th>\n",
       "      <th>promptNoExample</th>\n",
       "      <th>completion</th>\n",
       "    </tr>\n",
       "  </thead>\n",
       "  <tbody>\n",
       "    <tr>\n",
       "      <th>0</th>\n",
       "      <td>Emergency Damages I</td>\n",
       "      <td>controversial</td>\n",
       "      <td>24</td>\n",
       "      <td>7</td>\n",
       "      <td>4</td>\n",
       "      <td>0.685714</td>\n",
       "      <td>0.2</td>\n",
       "      <td>0.114286</td>\n",
       "      <td>Emergency Damages</td>\n",
       "      <td>Joanne's home insurance covers \"Emergency Dama...</td>\n",
       "      <td>Late one night, Joanne hears loud crashing noi...</td>\n",
       "      <td>Out of 100 randomly-surveyed people, estimate ...</td>\n",
       "      <td>TEXT: Joanne's home insurance covers \"Emergenc...</td>\n",
       "      <td>69</td>\n",
       "    </tr>\n",
       "  </tbody>\n",
       "</table>\n",
       "</div>"
      ],
      "text/plain": [
       "                 title        version  nYes  nNo  nCantDecide   propYes  \\\n",
       "0  Emergency Damages I  controversial    24    7            4  0.685714   \n",
       "\n",
       "   propNo  propCantDecide               item  \\\n",
       "0     0.2        0.114286  Emergency Damages   \n",
       "\n",
       "                                              header  \\\n",
       "0  Joanne's home insurance covers \"Emergency Dama...   \n",
       "\n",
       "                                        continuation  \\\n",
       "0  Late one night, Joanne hears loud crashing noi...   \n",
       "\n",
       "                                            question  \\\n",
       "0  Out of 100 randomly-surveyed people, estimate ...   \n",
       "\n",
       "                                     promptNoExample completion  \n",
       "0  TEXT: Joanne's home insurance covers \"Emergenc...         69  "
      ]
     },
     "execution_count": 6,
     "metadata": {},
     "output_type": "execute_result"
    }
   ],
   "source": [
    "d[\"completion\"] = np.around(d.propYes * 100).astype(int).astype(str)\n",
    "d.head(1)"
   ]
  },
  {
   "cell_type": "code",
   "execution_count": 7,
   "metadata": {},
   "outputs": [],
   "source": [
    "# GET UNTUNED PREDICTIONS\n",
    "d[\"untunedPredictions\"] = d.apply(lambda x : openai.Completion.create(model=\"text-davinci-003\", \n",
    "                                    prompt=x[\"promptNoExample\"],\n",
    "                                    temperature=0, max_tokens=4).choices[0].text, axis = 1)"
   ]
  },
  {
   "cell_type": "code",
   "execution_count": null,
   "metadata": {},
   "outputs": [],
   "source": [
    "d[\"untunedPredictions2\"] = d.apply(lambda x : openai.Completion.create(model=\"text-davinci-003\", \n",
    "                                    prompt=x[\"promptNoExample\"],\n",
    "                                    temperature=0, max_tokens=4).choices[0].text, axis = 1)\n",
    "d[\"untunedPredictions3\"] = d.apply(lambda x : openai.Completion.create(model=\"text-davinci-003\", \n",
    "                                    prompt=x[\"promptNoExample\"],\n",
    "                                    temperature=0, max_tokens=4).choices[0].text, axis = 1)\n",
    "d[\"untunedPredictions4\"] = d.apply(lambda x : openai.Completion.create(model=\"text-davinci-003\", \n",
    "                                    prompt=x[\"promptNoExample\"],\n",
    "                                    temperature=0, max_tokens=4).choices[0].text, axis = 1)\n",
    "d[\"untunedPredictions5\"] = d.apply(lambda x : openai.Completion.create(model=\"text-davinci-003\", \n",
    "                                    prompt=x[\"promptNoExample\"],\n",
    "                                    temperature=0, max_tokens=4).choices[0].text, axis = 1)\n",
    "d[\"untunedPredictions6\"] = d.apply(lambda x : openai.Completion.create(model=\"text-davinci-003\", \n",
    "                                    prompt=x[\"promptNoExample\"],\n",
    "                                    temperature=0, max_tokens=4).choices[0].text, axis = 1)\n",
    "d[\"untunedPredictions7\"] = d.apply(lambda x : openai.Completion.create(model=\"text-davinci-003\", \n",
    "                                    prompt=x[\"promptNoExample\"],\n",
    "                                    temperature=0, max_tokens=4).choices[0].text, axis = 1)\n",
    "d[\"untunedPredictions8\"] = d.apply(lambda x : openai.Completion.create(model=\"text-davinci-003\", \n",
    "                                    prompt=x[\"promptNoExample\"],\n",
    "                                    temperature=0, max_tokens=4).choices[0].text, axis = 1)\n",
    "d[\"untunedPredictions9\"] = d.apply(lambda x : openai.Completion.create(model=\"text-davinci-003\", \n",
    "                                    prompt=x[\"promptNoExample\"],\n",
    "                                    temperature=0, max_tokens=4).choices[0].text, axis = 1)\n",
    "d[\"untunedPredictions10\"] = d.apply(lambda x : openai.Completion.create(model=\"text-davinci-003\", \n",
    "                                    prompt=x[\"promptNoExample\"],\n",
    "                                    temperature=0, max_tokens=4).choices[0].text, axis = 1)\n",
    "d[\"untunedPredictions11\"] = d.apply(lambda x : openai.Completion.create(model=\"text-davinci-003\", \n",
    "                                    prompt=x[\"promptNoExample\"],\n",
    "                                    temperature=0, max_tokens=4).choices[0].text, axis = 1)\n",
    "d[\"untunedPredictions12\"] = d.apply(lambda x : openai.Completion.create(model=\"text-davinci-003\", \n",
    "                                    prompt=x[\"promptNoExample\"],\n",
    "                                    temperature=0, max_tokens=4).choices[0].text, axis = 1)"
   ]
  },
  {
   "cell_type": "code",
   "execution_count": 24,
   "metadata": {},
   "outputs": [
    {
     "data": {
      "text/plain": [
       "75.14492753623189"
      ]
     },
     "execution_count": 24,
     "metadata": {},
     "output_type": "execute_result"
    }
   ],
   "source": [
    "np.mean(d[\"untunedPredictions\"].astype(int))"
   ]
  },
  {
   "cell_type": "code",
   "execution_count": 8,
   "metadata": {},
   "outputs": [
    {
     "data": {
      "text/plain": [
       "array([[1.        , 0.51610526],\n",
       "       [0.51610526, 1.        ]])"
      ]
     },
     "execution_count": 8,
     "metadata": {},
     "output_type": "execute_result"
    }
   ],
   "source": [
    "np.corrcoef(d.completion.astype(int),d.untunedPredictions.astype(int))"
   ]
  },
  {
   "cell_type": "code",
   "execution_count": 9,
   "metadata": {},
   "outputs": [],
   "source": [
    "# CREATE 12 RANDOM FOLDS OF EXAMPLES \n",
    "d[\"index\"] = np.arange(len(d))\n",
    "fewShotFoldIndices = np.copy(d.index)\n",
    "np.random.shuffle(fewShotFoldIndices)\n",
    "fewShotFolds = np.array_split(fewShotFoldIndices, 12)"
   ]
  },
  {
   "cell_type": "code",
   "execution_count": 10,
   "metadata": {},
   "outputs": [],
   "source": [
    "createExample = lambda x : \"\\n --- \\n TEXT: \" + d[\"header\"][x] + d[\"continuation\"][x] + \"\\n\" + d.question + \"\\n\" + \"ESTIMATE (out of 100): \" + d[\"completion\"][x]\n",
    "d[\"promptWithExampleSet1\"] = createExample(fewShotFolds[0]).str.cat() + \"TEXT: \" + d.header + d.continuation + \"\\n\" + d.question + \"\\n\" + \"ESTIMATE (out of 100): \"\n",
    "d[\"promptWithExampleSet2\"] = createExample(fewShotFolds[1]).str.cat() + \"TEXT: \" + d.header + d.continuation + \"\\n\" + d.question + \"\\n\" + \"ESTIMATE (out of 100): \"\n",
    "d[\"promptWithExampleSet3\"] = createExample(fewShotFolds[2]).str.cat() + \"TEXT: \" + d.header + d.continuation + \"\\n\" + d.question + \"\\n\" + \"ESTIMATE (out of 100): \"\n",
    "d[\"promptWithExampleSet4\"] = createExample(fewShotFolds[3]).str.cat() + \"TEXT: \" + d.header + d.continuation + \"\\n\" + d.question + \"\\n\" + \"ESTIMATE (out of 100): \"\n",
    "d[\"promptWithExampleSet5\"] = createExample(fewShotFolds[4]).str.cat() + \"TEXT: \" + d.header + d.continuation + \"\\n\" + d.question + \"\\n\" + \"ESTIMATE (out of 100): \""
   ]
  },
  {
   "cell_type": "code",
   "execution_count": 11,
   "metadata": {},
   "outputs": [],
   "source": [
    "d[\"fewShotPredictions1\"] = d.apply(lambda x : openai.Completion.create(model=\"text-davinci-003\", \n",
    "                                    prompt=x[\"promptWithExampleSet1\"],\n",
    "                                    temperature=0, max_tokens=4).choices[0].text, axis = 1)\n",
    "d[\"fewShotPredictions2\"] = d.apply(lambda x : openai.Completion.create(model=\"text-davinci-003\", \n",
    "                                    prompt=x[\"promptWithExampleSet2\"],\n",
    "                                    temperature=0, max_tokens=4).choices[0].text, axis = 1)\n",
    "d[\"fewShotPredictions3\"] = d.apply(lambda x : openai.Completion.create(model=\"text-davinci-003\", \n",
    "                                    prompt=x[\"promptWithExampleSet3\"],\n",
    "                                    temperature=0, max_tokens=4).choices[0].text, axis = 1)\n",
    "d[\"fewShotPredictions4\"] = d.apply(lambda x : openai.Completion.create(model=\"text-davinci-003\", \n",
    "                                    prompt=x[\"promptWithExampleSet4\"],\n",
    "                                    temperature=0, max_tokens=4).choices[0].text, axis = 1)\n",
    "d[\"fewShotPredictions5\"] = d.apply(lambda x : openai.Completion.create(model=\"text-davinci-003\", \n",
    "                                    prompt=x[\"promptWithExampleSet5\"],\n",
    "                                    temperature=0, max_tokens=4).choices[0].text, axis = 1)"
   ]
  },
  {
   "cell_type": "code",
   "execution_count": 12,
   "metadata": {},
   "outputs": [],
   "source": [
    "d[\"promptWithExampleSet6\"] = createExample(fewShotFolds[5]).str.cat() + \"TEXT: \" + d.header + d.continuation + \"\\n\" + d.question + \"\\n\" + \"ESTIMATE (out of 100): \"\n",
    "d[\"promptWithExampleSet7\"] = createExample(fewShotFolds[6]).str.cat() + \"TEXT: \" + d.header + d.continuation + \"\\n\" + d.question + \"\\n\" + \"ESTIMATE (out of 100): \"\n",
    "d[\"promptWithExampleSet8\"] = createExample(fewShotFolds[7]).str.cat() + \"TEXT: \" + d.header + d.continuation + \"\\n\" + d.question + \"\\n\" + \"ESTIMATE (out of 100): \"\n",
    "d[\"promptWithExampleSet9\"] = createExample(fewShotFolds[8]).str.cat() + \"TEXT: \" + d.header + d.continuation + \"\\n\" + d.question + \"\\n\" + \"ESTIMATE (out of 100): \"\n",
    "d[\"promptWithExampleSet10\"] = createExample(fewShotFolds[9]).str.cat() + \"TEXT: \" + d.header + d.continuation + \"\\n\" + d.question + \"\\n\" + \"ESTIMATE (out of 100): \"\n",
    "d[\"promptWithExampleSet11\"] = createExample(fewShotFolds[10]).str.cat() + \"TEXT: \" + d.header + d.continuation + \"\\n\" + d.question + \"\\n\" + \"ESTIMATE (out of 100): \"\n",
    "d[\"promptWithExampleSet12\"] = createExample(fewShotFolds[11]).str.cat() + \"TEXT: \" + d.header + d.continuation + \"\\n\" + d.question + \"\\n\" + \"ESTIMATE (out of 100): \""
   ]
  },
  {
   "cell_type": "code",
   "execution_count": 15,
   "metadata": {},
   "outputs": [
    {
     "ename": "RateLimitError",
     "evalue": "You exceeded your current quota, please check your plan and billing details.",
     "output_type": "error",
     "traceback": [
      "\u001b[0;31m---------------------------------------------------------------------------\u001b[0m",
      "\u001b[0;31mRateLimitError\u001b[0m                            Traceback (most recent call last)",
      "Input \u001b[0;32mIn [15]\u001b[0m, in \u001b[0;36m<cell line: 4>\u001b[0;34m()\u001b[0m\n\u001b[1;32m      1\u001b[0m d[\u001b[38;5;124m\"\u001b[39m\u001b[38;5;124mfewShotPredictions6\u001b[39m\u001b[38;5;124m\"\u001b[39m] \u001b[38;5;241m=\u001b[39m d\u001b[38;5;241m.\u001b[39mapply(\u001b[38;5;28;01mlambda\u001b[39;00m x : openai\u001b[38;5;241m.\u001b[39mCompletion\u001b[38;5;241m.\u001b[39mcreate(model\u001b[38;5;241m=\u001b[39m\u001b[38;5;124m\"\u001b[39m\u001b[38;5;124mtext-davinci-003\u001b[39m\u001b[38;5;124m\"\u001b[39m, \n\u001b[1;32m      2\u001b[0m                                     prompt\u001b[38;5;241m=\u001b[39mx[\u001b[38;5;124m\"\u001b[39m\u001b[38;5;124mpromptWithExampleSet6\u001b[39m\u001b[38;5;124m\"\u001b[39m],\n\u001b[1;32m      3\u001b[0m                                     temperature\u001b[38;5;241m=\u001b[39m\u001b[38;5;241m0\u001b[39m, max_tokens\u001b[38;5;241m=\u001b[39m\u001b[38;5;241m4\u001b[39m)\u001b[38;5;241m.\u001b[39mchoices[\u001b[38;5;241m0\u001b[39m]\u001b[38;5;241m.\u001b[39mtext, axis \u001b[38;5;241m=\u001b[39m \u001b[38;5;241m1\u001b[39m)\n\u001b[0;32m----> 4\u001b[0m d[\u001b[38;5;124m\"\u001b[39m\u001b[38;5;124mfewShotPredictions7\u001b[39m\u001b[38;5;124m\"\u001b[39m] \u001b[38;5;241m=\u001b[39m \u001b[43md\u001b[49m\u001b[38;5;241;43m.\u001b[39;49m\u001b[43mapply\u001b[49m\u001b[43m(\u001b[49m\u001b[38;5;28;43;01mlambda\u001b[39;49;00m\u001b[43m \u001b[49m\u001b[43mx\u001b[49m\u001b[43m \u001b[49m\u001b[43m:\u001b[49m\u001b[43m \u001b[49m\u001b[43mopenai\u001b[49m\u001b[38;5;241;43m.\u001b[39;49m\u001b[43mCompletion\u001b[49m\u001b[38;5;241;43m.\u001b[39;49m\u001b[43mcreate\u001b[49m\u001b[43m(\u001b[49m\u001b[43mmodel\u001b[49m\u001b[38;5;241;43m=\u001b[39;49m\u001b[38;5;124;43m\"\u001b[39;49m\u001b[38;5;124;43mtext-davinci-003\u001b[39;49m\u001b[38;5;124;43m\"\u001b[39;49m\u001b[43m,\u001b[49m\u001b[43m \u001b[49m\n\u001b[1;32m      5\u001b[0m \u001b[43m                                    \u001b[49m\u001b[43mprompt\u001b[49m\u001b[38;5;241;43m=\u001b[39;49m\u001b[43mx\u001b[49m\u001b[43m[\u001b[49m\u001b[38;5;124;43m\"\u001b[39;49m\u001b[38;5;124;43mpromptWithExampleSet7\u001b[39;49m\u001b[38;5;124;43m\"\u001b[39;49m\u001b[43m]\u001b[49m\u001b[43m,\u001b[49m\n\u001b[1;32m      6\u001b[0m \u001b[43m                                    \u001b[49m\u001b[43mtemperature\u001b[49m\u001b[38;5;241;43m=\u001b[39;49m\u001b[38;5;241;43m0\u001b[39;49m\u001b[43m,\u001b[49m\u001b[43m \u001b[49m\u001b[43mmax_tokens\u001b[49m\u001b[38;5;241;43m=\u001b[39;49m\u001b[38;5;241;43m4\u001b[39;49m\u001b[43m)\u001b[49m\u001b[38;5;241;43m.\u001b[39;49m\u001b[43mchoices\u001b[49m\u001b[43m[\u001b[49m\u001b[38;5;241;43m0\u001b[39;49m\u001b[43m]\u001b[49m\u001b[38;5;241;43m.\u001b[39;49m\u001b[43mtext\u001b[49m\u001b[43m,\u001b[49m\u001b[43m \u001b[49m\u001b[43maxis\u001b[49m\u001b[43m \u001b[49m\u001b[38;5;241;43m=\u001b[39;49m\u001b[43m \u001b[49m\u001b[38;5;241;43m1\u001b[39;49m\u001b[43m)\u001b[49m\n\u001b[1;32m      7\u001b[0m d[\u001b[38;5;124m\"\u001b[39m\u001b[38;5;124mfewShotPredictions8\u001b[39m\u001b[38;5;124m\"\u001b[39m] \u001b[38;5;241m=\u001b[39m d\u001b[38;5;241m.\u001b[39mapply(\u001b[38;5;28;01mlambda\u001b[39;00m x : openai\u001b[38;5;241m.\u001b[39mCompletion\u001b[38;5;241m.\u001b[39mcreate(model\u001b[38;5;241m=\u001b[39m\u001b[38;5;124m\"\u001b[39m\u001b[38;5;124mtext-davinci-003\u001b[39m\u001b[38;5;124m\"\u001b[39m, \n\u001b[1;32m      8\u001b[0m                                     prompt\u001b[38;5;241m=\u001b[39mx[\u001b[38;5;124m\"\u001b[39m\u001b[38;5;124mpromptWithExampleSet8\u001b[39m\u001b[38;5;124m\"\u001b[39m],\n\u001b[1;32m      9\u001b[0m                                     temperature\u001b[38;5;241m=\u001b[39m\u001b[38;5;241m0\u001b[39m, max_tokens\u001b[38;5;241m=\u001b[39m\u001b[38;5;241m4\u001b[39m)\u001b[38;5;241m.\u001b[39mchoices[\u001b[38;5;241m0\u001b[39m]\u001b[38;5;241m.\u001b[39mtext, axis \u001b[38;5;241m=\u001b[39m \u001b[38;5;241m1\u001b[39m)\n\u001b[1;32m     10\u001b[0m d[\u001b[38;5;124m\"\u001b[39m\u001b[38;5;124mfewShotPredictions9\u001b[39m\u001b[38;5;124m\"\u001b[39m] \u001b[38;5;241m=\u001b[39m d\u001b[38;5;241m.\u001b[39mapply(\u001b[38;5;28;01mlambda\u001b[39;00m x : openai\u001b[38;5;241m.\u001b[39mCompletion\u001b[38;5;241m.\u001b[39mcreate(model\u001b[38;5;241m=\u001b[39m\u001b[38;5;124m\"\u001b[39m\u001b[38;5;124mtext-davinci-003\u001b[39m\u001b[38;5;124m\"\u001b[39m, \n\u001b[1;32m     11\u001b[0m                                     prompt\u001b[38;5;241m=\u001b[39mx[\u001b[38;5;124m\"\u001b[39m\u001b[38;5;124mpromptWithExampleSet9\u001b[39m\u001b[38;5;124m\"\u001b[39m],\n\u001b[1;32m     12\u001b[0m                                     temperature\u001b[38;5;241m=\u001b[39m\u001b[38;5;241m0\u001b[39m, max_tokens\u001b[38;5;241m=\u001b[39m\u001b[38;5;241m4\u001b[39m)\u001b[38;5;241m.\u001b[39mchoices[\u001b[38;5;241m0\u001b[39m]\u001b[38;5;241m.\u001b[39mtext, axis \u001b[38;5;241m=\u001b[39m \u001b[38;5;241m1\u001b[39m)\n",
      "File \u001b[0;32m/usr/local/anaconda3/envs/falseConsensus/lib/python3.10/site-packages/pandas/core/frame.py:9565\u001b[0m, in \u001b[0;36mDataFrame.apply\u001b[0;34m(self, func, axis, raw, result_type, args, **kwargs)\u001b[0m\n\u001b[1;32m   9554\u001b[0m \u001b[38;5;28;01mfrom\u001b[39;00m \u001b[38;5;21;01mpandas\u001b[39;00m\u001b[38;5;21;01m.\u001b[39;00m\u001b[38;5;21;01mcore\u001b[39;00m\u001b[38;5;21;01m.\u001b[39;00m\u001b[38;5;21;01mapply\u001b[39;00m \u001b[38;5;28;01mimport\u001b[39;00m frame_apply\n\u001b[1;32m   9556\u001b[0m op \u001b[38;5;241m=\u001b[39m frame_apply(\n\u001b[1;32m   9557\u001b[0m     \u001b[38;5;28mself\u001b[39m,\n\u001b[1;32m   9558\u001b[0m     func\u001b[38;5;241m=\u001b[39mfunc,\n\u001b[0;32m   (...)\u001b[0m\n\u001b[1;32m   9563\u001b[0m     kwargs\u001b[38;5;241m=\u001b[39mkwargs,\n\u001b[1;32m   9564\u001b[0m )\n\u001b[0;32m-> 9565\u001b[0m \u001b[38;5;28;01mreturn\u001b[39;00m \u001b[43mop\u001b[49m\u001b[38;5;241;43m.\u001b[39;49m\u001b[43mapply\u001b[49m\u001b[43m(\u001b[49m\u001b[43m)\u001b[49m\u001b[38;5;241m.\u001b[39m__finalize__(\u001b[38;5;28mself\u001b[39m, method\u001b[38;5;241m=\u001b[39m\u001b[38;5;124m\"\u001b[39m\u001b[38;5;124mapply\u001b[39m\u001b[38;5;124m\"\u001b[39m)\n",
      "File \u001b[0;32m/usr/local/anaconda3/envs/falseConsensus/lib/python3.10/site-packages/pandas/core/apply.py:746\u001b[0m, in \u001b[0;36mFrameApply.apply\u001b[0;34m(self)\u001b[0m\n\u001b[1;32m    743\u001b[0m \u001b[38;5;28;01melif\u001b[39;00m \u001b[38;5;28mself\u001b[39m\u001b[38;5;241m.\u001b[39mraw:\n\u001b[1;32m    744\u001b[0m     \u001b[38;5;28;01mreturn\u001b[39;00m \u001b[38;5;28mself\u001b[39m\u001b[38;5;241m.\u001b[39mapply_raw()\n\u001b[0;32m--> 746\u001b[0m \u001b[38;5;28;01mreturn\u001b[39;00m \u001b[38;5;28;43mself\u001b[39;49m\u001b[38;5;241;43m.\u001b[39;49m\u001b[43mapply_standard\u001b[49m\u001b[43m(\u001b[49m\u001b[43m)\u001b[49m\n",
      "File \u001b[0;32m/usr/local/anaconda3/envs/falseConsensus/lib/python3.10/site-packages/pandas/core/apply.py:873\u001b[0m, in \u001b[0;36mFrameApply.apply_standard\u001b[0;34m(self)\u001b[0m\n\u001b[1;32m    872\u001b[0m \u001b[38;5;28;01mdef\u001b[39;00m \u001b[38;5;21mapply_standard\u001b[39m(\u001b[38;5;28mself\u001b[39m):\n\u001b[0;32m--> 873\u001b[0m     results, res_index \u001b[38;5;241m=\u001b[39m \u001b[38;5;28;43mself\u001b[39;49m\u001b[38;5;241;43m.\u001b[39;49m\u001b[43mapply_series_generator\u001b[49m\u001b[43m(\u001b[49m\u001b[43m)\u001b[49m\n\u001b[1;32m    875\u001b[0m     \u001b[38;5;66;03m# wrap results\u001b[39;00m\n\u001b[1;32m    876\u001b[0m     \u001b[38;5;28;01mreturn\u001b[39;00m \u001b[38;5;28mself\u001b[39m\u001b[38;5;241m.\u001b[39mwrap_results(results, res_index)\n",
      "File \u001b[0;32m/usr/local/anaconda3/envs/falseConsensus/lib/python3.10/site-packages/pandas/core/apply.py:889\u001b[0m, in \u001b[0;36mFrameApply.apply_series_generator\u001b[0;34m(self)\u001b[0m\n\u001b[1;32m    886\u001b[0m \u001b[38;5;28;01mwith\u001b[39;00m option_context(\u001b[38;5;124m\"\u001b[39m\u001b[38;5;124mmode.chained_assignment\u001b[39m\u001b[38;5;124m\"\u001b[39m, \u001b[38;5;28;01mNone\u001b[39;00m):\n\u001b[1;32m    887\u001b[0m     \u001b[38;5;28;01mfor\u001b[39;00m i, v \u001b[38;5;129;01min\u001b[39;00m \u001b[38;5;28menumerate\u001b[39m(series_gen):\n\u001b[1;32m    888\u001b[0m         \u001b[38;5;66;03m# ignore SettingWithCopy here in case the user mutates\u001b[39;00m\n\u001b[0;32m--> 889\u001b[0m         results[i] \u001b[38;5;241m=\u001b[39m \u001b[38;5;28;43mself\u001b[39;49m\u001b[38;5;241;43m.\u001b[39;49m\u001b[43mf\u001b[49m\u001b[43m(\u001b[49m\u001b[43mv\u001b[49m\u001b[43m)\u001b[49m\n\u001b[1;32m    890\u001b[0m         \u001b[38;5;28;01mif\u001b[39;00m \u001b[38;5;28misinstance\u001b[39m(results[i], ABCSeries):\n\u001b[1;32m    891\u001b[0m             \u001b[38;5;66;03m# If we have a view on v, we need to make a copy because\u001b[39;00m\n\u001b[1;32m    892\u001b[0m             \u001b[38;5;66;03m#  series_generator will swap out the underlying data\u001b[39;00m\n\u001b[1;32m    893\u001b[0m             results[i] \u001b[38;5;241m=\u001b[39m results[i]\u001b[38;5;241m.\u001b[39mcopy(deep\u001b[38;5;241m=\u001b[39m\u001b[38;5;28;01mFalse\u001b[39;00m)\n",
      "Input \u001b[0;32mIn [15]\u001b[0m, in \u001b[0;36m<lambda>\u001b[0;34m(x)\u001b[0m\n\u001b[1;32m      1\u001b[0m d[\u001b[38;5;124m\"\u001b[39m\u001b[38;5;124mfewShotPredictions6\u001b[39m\u001b[38;5;124m\"\u001b[39m] \u001b[38;5;241m=\u001b[39m d\u001b[38;5;241m.\u001b[39mapply(\u001b[38;5;28;01mlambda\u001b[39;00m x : openai\u001b[38;5;241m.\u001b[39mCompletion\u001b[38;5;241m.\u001b[39mcreate(model\u001b[38;5;241m=\u001b[39m\u001b[38;5;124m\"\u001b[39m\u001b[38;5;124mtext-davinci-003\u001b[39m\u001b[38;5;124m\"\u001b[39m, \n\u001b[1;32m      2\u001b[0m                                     prompt\u001b[38;5;241m=\u001b[39mx[\u001b[38;5;124m\"\u001b[39m\u001b[38;5;124mpromptWithExampleSet6\u001b[39m\u001b[38;5;124m\"\u001b[39m],\n\u001b[1;32m      3\u001b[0m                                     temperature\u001b[38;5;241m=\u001b[39m\u001b[38;5;241m0\u001b[39m, max_tokens\u001b[38;5;241m=\u001b[39m\u001b[38;5;241m4\u001b[39m)\u001b[38;5;241m.\u001b[39mchoices[\u001b[38;5;241m0\u001b[39m]\u001b[38;5;241m.\u001b[39mtext, axis \u001b[38;5;241m=\u001b[39m \u001b[38;5;241m1\u001b[39m)\n\u001b[0;32m----> 4\u001b[0m d[\u001b[38;5;124m\"\u001b[39m\u001b[38;5;124mfewShotPredictions7\u001b[39m\u001b[38;5;124m\"\u001b[39m] \u001b[38;5;241m=\u001b[39m d\u001b[38;5;241m.\u001b[39mapply(\u001b[38;5;28;01mlambda\u001b[39;00m x : \u001b[43mopenai\u001b[49m\u001b[38;5;241;43m.\u001b[39;49m\u001b[43mCompletion\u001b[49m\u001b[38;5;241;43m.\u001b[39;49m\u001b[43mcreate\u001b[49m\u001b[43m(\u001b[49m\u001b[43mmodel\u001b[49m\u001b[38;5;241;43m=\u001b[39;49m\u001b[38;5;124;43m\"\u001b[39;49m\u001b[38;5;124;43mtext-davinci-003\u001b[39;49m\u001b[38;5;124;43m\"\u001b[39;49m\u001b[43m,\u001b[49m\u001b[43m \u001b[49m\n\u001b[1;32m      5\u001b[0m \u001b[43m                                    \u001b[49m\u001b[43mprompt\u001b[49m\u001b[38;5;241;43m=\u001b[39;49m\u001b[43mx\u001b[49m\u001b[43m[\u001b[49m\u001b[38;5;124;43m\"\u001b[39;49m\u001b[38;5;124;43mpromptWithExampleSet7\u001b[39;49m\u001b[38;5;124;43m\"\u001b[39;49m\u001b[43m]\u001b[49m\u001b[43m,\u001b[49m\n\u001b[1;32m      6\u001b[0m \u001b[43m                                    \u001b[49m\u001b[43mtemperature\u001b[49m\u001b[38;5;241;43m=\u001b[39;49m\u001b[38;5;241;43m0\u001b[39;49m\u001b[43m,\u001b[49m\u001b[43m \u001b[49m\u001b[43mmax_tokens\u001b[49m\u001b[38;5;241;43m=\u001b[39;49m\u001b[38;5;241;43m4\u001b[39;49m\u001b[43m)\u001b[49m\u001b[38;5;241m.\u001b[39mchoices[\u001b[38;5;241m0\u001b[39m]\u001b[38;5;241m.\u001b[39mtext, axis \u001b[38;5;241m=\u001b[39m \u001b[38;5;241m1\u001b[39m)\n\u001b[1;32m      7\u001b[0m d[\u001b[38;5;124m\"\u001b[39m\u001b[38;5;124mfewShotPredictions8\u001b[39m\u001b[38;5;124m\"\u001b[39m] \u001b[38;5;241m=\u001b[39m d\u001b[38;5;241m.\u001b[39mapply(\u001b[38;5;28;01mlambda\u001b[39;00m x : openai\u001b[38;5;241m.\u001b[39mCompletion\u001b[38;5;241m.\u001b[39mcreate(model\u001b[38;5;241m=\u001b[39m\u001b[38;5;124m\"\u001b[39m\u001b[38;5;124mtext-davinci-003\u001b[39m\u001b[38;5;124m\"\u001b[39m, \n\u001b[1;32m      8\u001b[0m                                     prompt\u001b[38;5;241m=\u001b[39mx[\u001b[38;5;124m\"\u001b[39m\u001b[38;5;124mpromptWithExampleSet8\u001b[39m\u001b[38;5;124m\"\u001b[39m],\n\u001b[1;32m      9\u001b[0m                                     temperature\u001b[38;5;241m=\u001b[39m\u001b[38;5;241m0\u001b[39m, max_tokens\u001b[38;5;241m=\u001b[39m\u001b[38;5;241m4\u001b[39m)\u001b[38;5;241m.\u001b[39mchoices[\u001b[38;5;241m0\u001b[39m]\u001b[38;5;241m.\u001b[39mtext, axis \u001b[38;5;241m=\u001b[39m \u001b[38;5;241m1\u001b[39m)\n\u001b[1;32m     10\u001b[0m d[\u001b[38;5;124m\"\u001b[39m\u001b[38;5;124mfewShotPredictions9\u001b[39m\u001b[38;5;124m\"\u001b[39m] \u001b[38;5;241m=\u001b[39m d\u001b[38;5;241m.\u001b[39mapply(\u001b[38;5;28;01mlambda\u001b[39;00m x : openai\u001b[38;5;241m.\u001b[39mCompletion\u001b[38;5;241m.\u001b[39mcreate(model\u001b[38;5;241m=\u001b[39m\u001b[38;5;124m\"\u001b[39m\u001b[38;5;124mtext-davinci-003\u001b[39m\u001b[38;5;124m\"\u001b[39m, \n\u001b[1;32m     11\u001b[0m                                     prompt\u001b[38;5;241m=\u001b[39mx[\u001b[38;5;124m\"\u001b[39m\u001b[38;5;124mpromptWithExampleSet9\u001b[39m\u001b[38;5;124m\"\u001b[39m],\n\u001b[1;32m     12\u001b[0m                                     temperature\u001b[38;5;241m=\u001b[39m\u001b[38;5;241m0\u001b[39m, max_tokens\u001b[38;5;241m=\u001b[39m\u001b[38;5;241m4\u001b[39m)\u001b[38;5;241m.\u001b[39mchoices[\u001b[38;5;241m0\u001b[39m]\u001b[38;5;241m.\u001b[39mtext, axis \u001b[38;5;241m=\u001b[39m \u001b[38;5;241m1\u001b[39m)\n",
      "File \u001b[0;32m/usr/local/anaconda3/envs/falseConsensus/lib/python3.10/site-packages/openai/api_resources/completion.py:25\u001b[0m, in \u001b[0;36mCompletion.create\u001b[0;34m(cls, *args, **kwargs)\u001b[0m\n\u001b[1;32m     23\u001b[0m \u001b[38;5;28;01mwhile\u001b[39;00m \u001b[38;5;28;01mTrue\u001b[39;00m:\n\u001b[1;32m     24\u001b[0m     \u001b[38;5;28;01mtry\u001b[39;00m:\n\u001b[0;32m---> 25\u001b[0m         \u001b[38;5;28;01mreturn\u001b[39;00m \u001b[38;5;28;43msuper\u001b[39;49m\u001b[43m(\u001b[49m\u001b[43m)\u001b[49m\u001b[38;5;241;43m.\u001b[39;49m\u001b[43mcreate\u001b[49m\u001b[43m(\u001b[49m\u001b[38;5;241;43m*\u001b[39;49m\u001b[43margs\u001b[49m\u001b[43m,\u001b[49m\u001b[43m \u001b[49m\u001b[38;5;241;43m*\u001b[39;49m\u001b[38;5;241;43m*\u001b[39;49m\u001b[43mkwargs\u001b[49m\u001b[43m)\u001b[49m\n\u001b[1;32m     26\u001b[0m     \u001b[38;5;28;01mexcept\u001b[39;00m TryAgain \u001b[38;5;28;01mas\u001b[39;00m e:\n\u001b[1;32m     27\u001b[0m         \u001b[38;5;28;01mif\u001b[39;00m timeout \u001b[38;5;129;01mis\u001b[39;00m \u001b[38;5;129;01mnot\u001b[39;00m \u001b[38;5;28;01mNone\u001b[39;00m \u001b[38;5;129;01mand\u001b[39;00m time\u001b[38;5;241m.\u001b[39mtime() \u001b[38;5;241m>\u001b[39m start \u001b[38;5;241m+\u001b[39m timeout:\n",
      "File \u001b[0;32m/usr/local/anaconda3/envs/falseConsensus/lib/python3.10/site-packages/openai/api_resources/abstract/engine_api_resource.py:115\u001b[0m, in \u001b[0;36mEngineAPIResource.create\u001b[0;34m(cls, api_key, api_base, api_type, request_id, api_version, organization, **params)\u001b[0m\n\u001b[1;32m    107\u001b[0m requestor \u001b[38;5;241m=\u001b[39m api_requestor\u001b[38;5;241m.\u001b[39mAPIRequestor(\n\u001b[1;32m    108\u001b[0m     api_key,\n\u001b[1;32m    109\u001b[0m     api_base\u001b[38;5;241m=\u001b[39mapi_base,\n\u001b[0;32m   (...)\u001b[0m\n\u001b[1;32m    112\u001b[0m     organization\u001b[38;5;241m=\u001b[39morganization,\n\u001b[1;32m    113\u001b[0m )\n\u001b[1;32m    114\u001b[0m url \u001b[38;5;241m=\u001b[39m \u001b[38;5;28mcls\u001b[39m\u001b[38;5;241m.\u001b[39mclass_url(engine, api_type, api_version)\n\u001b[0;32m--> 115\u001b[0m response, _, api_key \u001b[38;5;241m=\u001b[39m \u001b[43mrequestor\u001b[49m\u001b[38;5;241;43m.\u001b[39;49m\u001b[43mrequest\u001b[49m\u001b[43m(\u001b[49m\n\u001b[1;32m    116\u001b[0m \u001b[43m    \u001b[49m\u001b[38;5;124;43m\"\u001b[39;49m\u001b[38;5;124;43mpost\u001b[39;49m\u001b[38;5;124;43m\"\u001b[39;49m\u001b[43m,\u001b[49m\n\u001b[1;32m    117\u001b[0m \u001b[43m    \u001b[49m\u001b[43murl\u001b[49m\u001b[43m,\u001b[49m\n\u001b[1;32m    118\u001b[0m \u001b[43m    \u001b[49m\u001b[43mparams\u001b[49m\u001b[38;5;241;43m=\u001b[39;49m\u001b[43mparams\u001b[49m\u001b[43m,\u001b[49m\n\u001b[1;32m    119\u001b[0m \u001b[43m    \u001b[49m\u001b[43mheaders\u001b[49m\u001b[38;5;241;43m=\u001b[39;49m\u001b[43mheaders\u001b[49m\u001b[43m,\u001b[49m\n\u001b[1;32m    120\u001b[0m \u001b[43m    \u001b[49m\u001b[43mstream\u001b[49m\u001b[38;5;241;43m=\u001b[39;49m\u001b[43mstream\u001b[49m\u001b[43m,\u001b[49m\n\u001b[1;32m    121\u001b[0m \u001b[43m    \u001b[49m\u001b[43mrequest_id\u001b[49m\u001b[38;5;241;43m=\u001b[39;49m\u001b[43mrequest_id\u001b[49m\u001b[43m,\u001b[49m\n\u001b[1;32m    122\u001b[0m \u001b[43m    \u001b[49m\u001b[43mrequest_timeout\u001b[49m\u001b[38;5;241;43m=\u001b[39;49m\u001b[43mrequest_timeout\u001b[49m\u001b[43m,\u001b[49m\n\u001b[1;32m    123\u001b[0m \u001b[43m\u001b[49m\u001b[43m)\u001b[49m\n\u001b[1;32m    125\u001b[0m \u001b[38;5;28;01mif\u001b[39;00m stream:\n\u001b[1;32m    126\u001b[0m     \u001b[38;5;66;03m# must be an iterator\u001b[39;00m\n\u001b[1;32m    127\u001b[0m     \u001b[38;5;28;01massert\u001b[39;00m \u001b[38;5;129;01mnot\u001b[39;00m \u001b[38;5;28misinstance\u001b[39m(response, OpenAIResponse)\n",
      "File \u001b[0;32m/usr/local/anaconda3/envs/falseConsensus/lib/python3.10/site-packages/openai/api_requestor.py:181\u001b[0m, in \u001b[0;36mAPIRequestor.request\u001b[0;34m(self, method, url, params, headers, files, stream, request_id, request_timeout)\u001b[0m\n\u001b[1;32m    160\u001b[0m \u001b[38;5;28;01mdef\u001b[39;00m \u001b[38;5;21mrequest\u001b[39m(\n\u001b[1;32m    161\u001b[0m     \u001b[38;5;28mself\u001b[39m,\n\u001b[1;32m    162\u001b[0m     method,\n\u001b[0;32m   (...)\u001b[0m\n\u001b[1;32m    169\u001b[0m     request_timeout: Optional[Union[\u001b[38;5;28mfloat\u001b[39m, Tuple[\u001b[38;5;28mfloat\u001b[39m, \u001b[38;5;28mfloat\u001b[39m]]] \u001b[38;5;241m=\u001b[39m \u001b[38;5;28;01mNone\u001b[39;00m,\n\u001b[1;32m    170\u001b[0m ) \u001b[38;5;241m-\u001b[39m\u001b[38;5;241m>\u001b[39m Tuple[Union[OpenAIResponse, Iterator[OpenAIResponse]], \u001b[38;5;28mbool\u001b[39m, \u001b[38;5;28mstr\u001b[39m]:\n\u001b[1;32m    171\u001b[0m     result \u001b[38;5;241m=\u001b[39m \u001b[38;5;28mself\u001b[39m\u001b[38;5;241m.\u001b[39mrequest_raw(\n\u001b[1;32m    172\u001b[0m         method\u001b[38;5;241m.\u001b[39mlower(),\n\u001b[1;32m    173\u001b[0m         url,\n\u001b[0;32m   (...)\u001b[0m\n\u001b[1;32m    179\u001b[0m         request_timeout\u001b[38;5;241m=\u001b[39mrequest_timeout,\n\u001b[1;32m    180\u001b[0m     )\n\u001b[0;32m--> 181\u001b[0m     resp, got_stream \u001b[38;5;241m=\u001b[39m \u001b[38;5;28;43mself\u001b[39;49m\u001b[38;5;241;43m.\u001b[39;49m\u001b[43m_interpret_response\u001b[49m\u001b[43m(\u001b[49m\u001b[43mresult\u001b[49m\u001b[43m,\u001b[49m\u001b[43m \u001b[49m\u001b[43mstream\u001b[49m\u001b[43m)\u001b[49m\n\u001b[1;32m    182\u001b[0m     \u001b[38;5;28;01mreturn\u001b[39;00m resp, got_stream, \u001b[38;5;28mself\u001b[39m\u001b[38;5;241m.\u001b[39mapi_key\n",
      "File \u001b[0;32m/usr/local/anaconda3/envs/falseConsensus/lib/python3.10/site-packages/openai/api_requestor.py:396\u001b[0m, in \u001b[0;36mAPIRequestor._interpret_response\u001b[0;34m(self, result, stream)\u001b[0m\n\u001b[1;32m    388\u001b[0m     \u001b[38;5;28;01mreturn\u001b[39;00m (\n\u001b[1;32m    389\u001b[0m         \u001b[38;5;28mself\u001b[39m\u001b[38;5;241m.\u001b[39m_interpret_response_line(\n\u001b[1;32m    390\u001b[0m             line, result\u001b[38;5;241m.\u001b[39mstatus_code, result\u001b[38;5;241m.\u001b[39mheaders, stream\u001b[38;5;241m=\u001b[39m\u001b[38;5;28;01mTrue\u001b[39;00m\n\u001b[1;32m    391\u001b[0m         )\n\u001b[1;32m    392\u001b[0m         \u001b[38;5;28;01mfor\u001b[39;00m line \u001b[38;5;129;01min\u001b[39;00m parse_stream(result\u001b[38;5;241m.\u001b[39miter_lines())\n\u001b[1;32m    393\u001b[0m     ), \u001b[38;5;28;01mTrue\u001b[39;00m\n\u001b[1;32m    394\u001b[0m \u001b[38;5;28;01melse\u001b[39;00m:\n\u001b[1;32m    395\u001b[0m     \u001b[38;5;28;01mreturn\u001b[39;00m (\n\u001b[0;32m--> 396\u001b[0m         \u001b[38;5;28;43mself\u001b[39;49m\u001b[38;5;241;43m.\u001b[39;49m\u001b[43m_interpret_response_line\u001b[49m\u001b[43m(\u001b[49m\n\u001b[1;32m    397\u001b[0m \u001b[43m            \u001b[49m\u001b[43mresult\u001b[49m\u001b[38;5;241;43m.\u001b[39;49m\u001b[43mcontent\u001b[49m\u001b[43m,\u001b[49m\u001b[43m \u001b[49m\u001b[43mresult\u001b[49m\u001b[38;5;241;43m.\u001b[39;49m\u001b[43mstatus_code\u001b[49m\u001b[43m,\u001b[49m\u001b[43m \u001b[49m\u001b[43mresult\u001b[49m\u001b[38;5;241;43m.\u001b[39;49m\u001b[43mheaders\u001b[49m\u001b[43m,\u001b[49m\u001b[43m \u001b[49m\u001b[43mstream\u001b[49m\u001b[38;5;241;43m=\u001b[39;49m\u001b[38;5;28;43;01mFalse\u001b[39;49;00m\n\u001b[1;32m    398\u001b[0m \u001b[43m        \u001b[49m\u001b[43m)\u001b[49m,\n\u001b[1;32m    399\u001b[0m         \u001b[38;5;28;01mFalse\u001b[39;00m,\n\u001b[1;32m    400\u001b[0m     )\n",
      "File \u001b[0;32m/usr/local/anaconda3/envs/falseConsensus/lib/python3.10/site-packages/openai/api_requestor.py:429\u001b[0m, in \u001b[0;36mAPIRequestor._interpret_response_line\u001b[0;34m(self, rbody, rcode, rheaders, stream)\u001b[0m\n\u001b[1;32m    427\u001b[0m stream_error \u001b[38;5;241m=\u001b[39m stream \u001b[38;5;129;01mand\u001b[39;00m \u001b[38;5;124m\"\u001b[39m\u001b[38;5;124merror\u001b[39m\u001b[38;5;124m\"\u001b[39m \u001b[38;5;129;01min\u001b[39;00m resp\u001b[38;5;241m.\u001b[39mdata\n\u001b[1;32m    428\u001b[0m \u001b[38;5;28;01mif\u001b[39;00m stream_error \u001b[38;5;129;01mor\u001b[39;00m \u001b[38;5;129;01mnot\u001b[39;00m \u001b[38;5;241m200\u001b[39m \u001b[38;5;241m<\u001b[39m\u001b[38;5;241m=\u001b[39m rcode \u001b[38;5;241m<\u001b[39m \u001b[38;5;241m300\u001b[39m:\n\u001b[0;32m--> 429\u001b[0m     \u001b[38;5;28;01mraise\u001b[39;00m \u001b[38;5;28mself\u001b[39m\u001b[38;5;241m.\u001b[39mhandle_error_response(\n\u001b[1;32m    430\u001b[0m         rbody, rcode, resp\u001b[38;5;241m.\u001b[39mdata, rheaders, stream_error\u001b[38;5;241m=\u001b[39mstream_error\n\u001b[1;32m    431\u001b[0m     )\n\u001b[1;32m    432\u001b[0m \u001b[38;5;28;01mreturn\u001b[39;00m resp\n",
      "\u001b[0;31mRateLimitError\u001b[0m: You exceeded your current quota, please check your plan and billing details."
     ]
    }
   ],
   "source": [
    "d[\"fewShotPredictions6\"] = d.apply(lambda x : openai.Completion.create(model=\"text-davinci-003\", \n",
    "                                    prompt=x[\"promptWithExampleSet6\"],\n",
    "                                    temperature=0, max_tokens=4).choices[0].text, axis = 1)\n",
    "d[\"fewShotPredictions7\"] = d.apply(lambda x : openai.Completion.create(model=\"text-davinci-003\", \n",
    "                                    prompt=x[\"promptWithExampleSet7\"],\n",
    "                                    temperature=0, max_tokens=4).choices[0].text, axis = 1)\n",
    "d[\"fewShotPredictions8\"] = d.apply(lambda x : openai.Completion.create(model=\"text-davinci-003\", \n",
    "                                    prompt=x[\"promptWithExampleSet8\"],\n",
    "                                    temperature=0, max_tokens=4).choices[0].text, axis = 1)\n",
    "d[\"fewShotPredictions9\"] = d.apply(lambda x : openai.Completion.create(model=\"text-davinci-003\", \n",
    "                                    prompt=x[\"promptWithExampleSet9\"],\n",
    "                                    temperature=0, max_tokens=4).choices[0].text, axis = 1)\n",
    "d[\"fewShotPredictions10\"] = d.apply(lambda x : openai.Completion.create(model=\"text-davinci-003\", \n",
    "                                    prompt=x[\"promptWithExampleSet10\"],\n",
    "                                    temperature=0, max_tokens=4).choices[0].text, axis = 1)\n",
    "d[\"fewShotPredictions11\"] = d.apply(lambda x : openai.Completion.create(model=\"text-davinci-003\", \n",
    "                                    prompt=x[\"promptWithExampleSet11\"],\n",
    "                                    temperature=0, max_tokens=4).choices[0].text, axis = 1)\n",
    "d[\"fewShotPredictions12\"] = d.apply(lambda x : openai.Completion.create(model=\"text-davinci-003\", \n",
    "                                    prompt=x[\"promptWithExampleSet12\"],\n",
    "                                    temperature=0, max_tokens=4).choices[0].text, axis = 1)"
   ]
  },
  {
   "cell_type": "code",
   "execution_count": 16,
   "metadata": {},
   "outputs": [
    {
     "data": {
      "text/html": [
       "<div>\n",
       "<style scoped>\n",
       "    .dataframe tbody tr th:only-of-type {\n",
       "        vertical-align: middle;\n",
       "    }\n",
       "\n",
       "    .dataframe tbody tr th {\n",
       "        vertical-align: top;\n",
       "    }\n",
       "\n",
       "    .dataframe thead th {\n",
       "        text-align: right;\n",
       "    }\n",
       "</style>\n",
       "<table border=\"1\" class=\"dataframe\">\n",
       "  <thead>\n",
       "    <tr style=\"text-align: right;\">\n",
       "      <th></th>\n",
       "      <th>title</th>\n",
       "      <th>version</th>\n",
       "      <th>nYes</th>\n",
       "      <th>nNo</th>\n",
       "      <th>nCantDecide</th>\n",
       "      <th>propYes</th>\n",
       "      <th>propNo</th>\n",
       "      <th>propCantDecide</th>\n",
       "      <th>item</th>\n",
       "      <th>header</th>\n",
       "      <th>...</th>\n",
       "      <th>fewShotPredictions4</th>\n",
       "      <th>fewShotPredictions5</th>\n",
       "      <th>promptWithExampleSet6</th>\n",
       "      <th>promptWithExampleSet7</th>\n",
       "      <th>promptWithExampleSet8</th>\n",
       "      <th>promptWithExampleSet9</th>\n",
       "      <th>promptWithExampleSet10</th>\n",
       "      <th>promptWithExampleSet11</th>\n",
       "      <th>promptWithExampleSet12</th>\n",
       "      <th>fewShotPredictions6</th>\n",
       "    </tr>\n",
       "  </thead>\n",
       "  <tbody>\n",
       "    <tr>\n",
       "      <th>0</th>\n",
       "      <td>Emergency Damages I</td>\n",
       "      <td>controversial</td>\n",
       "      <td>24</td>\n",
       "      <td>7</td>\n",
       "      <td>4</td>\n",
       "      <td>0.685714</td>\n",
       "      <td>0.200000</td>\n",
       "      <td>0.114286</td>\n",
       "      <td>Emergency Damages</td>\n",
       "      <td>Joanne's home insurance covers \"Emergency Dama...</td>\n",
       "      <td>...</td>\n",
       "      <td>11</td>\n",
       "      <td>95</td>\n",
       "      <td>\\n --- \\n TEXT: Mariam has insurance that cove...</td>\n",
       "      <td>\\n --- \\n TEXT: Fatema's home insurance covers...</td>\n",
       "      <td>\\n --- \\n TEXT: Miranda's home insurance polic...</td>\n",
       "      <td>\\n --- \\n TEXT: Salma's home insurance covers ...</td>\n",
       "      <td>\\n --- \\n TEXT: Joanne's home insurance covers...</td>\n",
       "      <td>\\n --- \\n TEXT: Mariam has insurance that cove...</td>\n",
       "      <td>\\n --- \\n TEXT: Belinda's home insurance polic...</td>\n",
       "      <td>4</td>\n",
       "    </tr>\n",
       "    <tr>\n",
       "      <th>1</th>\n",
       "      <td>Emergency Damages I</td>\n",
       "      <td>unambiguous_covered</td>\n",
       "      <td>22</td>\n",
       "      <td>0</td>\n",
       "      <td>0</td>\n",
       "      <td>1.000000</td>\n",
       "      <td>0.000000</td>\n",
       "      <td>0.000000</td>\n",
       "      <td>Emergency Damages</td>\n",
       "      <td>Joanne's home insurance covers \"Emergency Dama...</td>\n",
       "      <td>...</td>\n",
       "      <td>97</td>\n",
       "      <td>95</td>\n",
       "      <td>\\n --- \\n TEXT: Mariam has insurance that cove...</td>\n",
       "      <td>\\n --- \\n TEXT: Fatema's home insurance covers...</td>\n",
       "      <td>\\n --- \\n TEXT: Miranda's home insurance polic...</td>\n",
       "      <td>\\n --- \\n TEXT: Salma's home insurance covers ...</td>\n",
       "      <td>\\n --- \\n TEXT: Joanne's home insurance covers...</td>\n",
       "      <td>\\n --- \\n TEXT: Mariam has insurance that cove...</td>\n",
       "      <td>\\n --- \\n TEXT: Belinda's home insurance polic...</td>\n",
       "      <td>100</td>\n",
       "    </tr>\n",
       "    <tr>\n",
       "      <th>2</th>\n",
       "      <td>Emergency Damages I</td>\n",
       "      <td>unambiguous_uncovered</td>\n",
       "      <td>8</td>\n",
       "      <td>9</td>\n",
       "      <td>2</td>\n",
       "      <td>0.421053</td>\n",
       "      <td>0.473684</td>\n",
       "      <td>0.105263</td>\n",
       "      <td>Emergency Damages</td>\n",
       "      <td>Joanne's home insurance covers \"Emergency Dama...</td>\n",
       "      <td>...</td>\n",
       "      <td>42</td>\n",
       "      <td>95</td>\n",
       "      <td>\\n --- \\n TEXT: Mariam has insurance that cove...</td>\n",
       "      <td>\\n --- \\n TEXT: Fatema's home insurance covers...</td>\n",
       "      <td>\\n --- \\n TEXT: Miranda's home insurance polic...</td>\n",
       "      <td>\\n --- \\n TEXT: Salma's home insurance covers ...</td>\n",
       "      <td>\\n --- \\n TEXT: Joanne's home insurance covers...</td>\n",
       "      <td>\\n --- \\n TEXT: Mariam has insurance that cove...</td>\n",
       "      <td>\\n --- \\n TEXT: Belinda's home insurance polic...</td>\n",
       "      <td>100</td>\n",
       "    </tr>\n",
       "    <tr>\n",
       "      <th>3</th>\n",
       "      <td>Emergency Damages II</td>\n",
       "      <td>controversial</td>\n",
       "      <td>17</td>\n",
       "      <td>14</td>\n",
       "      <td>0</td>\n",
       "      <td>0.548387</td>\n",
       "      <td>0.451613</td>\n",
       "      <td>0.000000</td>\n",
       "      <td>Emergency Damages</td>\n",
       "      <td>Salma's home insurance covers \"Emergency Damag...</td>\n",
       "      <td>...</td>\n",
       "      <td>97</td>\n",
       "      <td>95</td>\n",
       "      <td>\\n --- \\n TEXT: Mariam has insurance that cove...</td>\n",
       "      <td>\\n --- \\n TEXT: Fatema's home insurance covers...</td>\n",
       "      <td>\\n --- \\n TEXT: Miranda's home insurance polic...</td>\n",
       "      <td>\\n --- \\n TEXT: Salma's home insurance covers ...</td>\n",
       "      <td>\\n --- \\n TEXT: Joanne's home insurance covers...</td>\n",
       "      <td>\\n --- \\n TEXT: Mariam has insurance that cove...</td>\n",
       "      <td>\\n --- \\n TEXT: Belinda's home insurance polic...</td>\n",
       "      <td>100</td>\n",
       "    </tr>\n",
       "    <tr>\n",
       "      <th>4</th>\n",
       "      <td>Emergency Damages II</td>\n",
       "      <td>unambiguous_covered</td>\n",
       "      <td>27</td>\n",
       "      <td>0</td>\n",
       "      <td>0</td>\n",
       "      <td>1.000000</td>\n",
       "      <td>0.000000</td>\n",
       "      <td>0.000000</td>\n",
       "      <td>Emergency Damages</td>\n",
       "      <td>Salma's home insurance covers \"Emergency Damag...</td>\n",
       "      <td>...</td>\n",
       "      <td>97</td>\n",
       "      <td>95</td>\n",
       "      <td>\\n --- \\n TEXT: Mariam has insurance that cove...</td>\n",
       "      <td>\\n --- \\n TEXT: Fatema's home insurance covers...</td>\n",
       "      <td>\\n --- \\n TEXT: Miranda's home insurance polic...</td>\n",
       "      <td>\\n --- \\n TEXT: Salma's home insurance covers ...</td>\n",
       "      <td>\\n --- \\n TEXT: Joanne's home insurance covers...</td>\n",
       "      <td>\\n --- \\n TEXT: Mariam has insurance that cove...</td>\n",
       "      <td>\\n --- \\n TEXT: Belinda's home insurance polic...</td>\n",
       "      <td>100</td>\n",
       "    </tr>\n",
       "    <tr>\n",
       "      <th>...</th>\n",
       "      <td>...</td>\n",
       "      <td>...</td>\n",
       "      <td>...</td>\n",
       "      <td>...</td>\n",
       "      <td>...</td>\n",
       "      <td>...</td>\n",
       "      <td>...</td>\n",
       "      <td>...</td>\n",
       "      <td>...</td>\n",
       "      <td>...</td>\n",
       "      <td>...</td>\n",
       "      <td>...</td>\n",
       "      <td>...</td>\n",
       "      <td>...</td>\n",
       "      <td>...</td>\n",
       "      <td>...</td>\n",
       "      <td>...</td>\n",
       "      <td>...</td>\n",
       "      <td>...</td>\n",
       "      <td>...</td>\n",
       "      <td>...</td>\n",
       "    </tr>\n",
       "    <tr>\n",
       "      <th>133</th>\n",
       "      <td>Vehicle Theft VI</td>\n",
       "      <td>unambiguous_covered</td>\n",
       "      <td>24</td>\n",
       "      <td>0</td>\n",
       "      <td>0</td>\n",
       "      <td>1.000000</td>\n",
       "      <td>0.000000</td>\n",
       "      <td>0.000000</td>\n",
       "      <td>Vehicle Theft</td>\n",
       "      <td>Cooper's car insurance policy includes coverag...</td>\n",
       "      <td>...</td>\n",
       "      <td>95</td>\n",
       "      <td>95</td>\n",
       "      <td>\\n --- \\n TEXT: Mariam has insurance that cove...</td>\n",
       "      <td>\\n --- \\n TEXT: Fatema's home insurance covers...</td>\n",
       "      <td>\\n --- \\n TEXT: Miranda's home insurance polic...</td>\n",
       "      <td>\\n --- \\n TEXT: Salma's home insurance covers ...</td>\n",
       "      <td>\\n --- \\n TEXT: Joanne's home insurance covers...</td>\n",
       "      <td>\\n --- \\n TEXT: Mariam has insurance that cove...</td>\n",
       "      <td>\\n --- \\n TEXT: Belinda's home insurance polic...</td>\n",
       "      <td>100</td>\n",
       "    </tr>\n",
       "    <tr>\n",
       "      <th>134</th>\n",
       "      <td>Vehicle Theft VI</td>\n",
       "      <td>unambiguous_uncovered</td>\n",
       "      <td>0</td>\n",
       "      <td>22</td>\n",
       "      <td>0</td>\n",
       "      <td>0.000000</td>\n",
       "      <td>1.000000</td>\n",
       "      <td>0.000000</td>\n",
       "      <td>Vehicle TheftVe</td>\n",
       "      <td>Cooper's car insurance policy includes coverag...</td>\n",
       "      <td>...</td>\n",
       "      <td>11</td>\n",
       "      <td>5</td>\n",
       "      <td>\\n --- \\n TEXT: Mariam has insurance that cove...</td>\n",
       "      <td>\\n --- \\n TEXT: Fatema's home insurance covers...</td>\n",
       "      <td>\\n --- \\n TEXT: Miranda's home insurance polic...</td>\n",
       "      <td>\\n --- \\n TEXT: Salma's home insurance covers ...</td>\n",
       "      <td>\\n --- \\n TEXT: Joanne's home insurance covers...</td>\n",
       "      <td>\\n --- \\n TEXT: Mariam has insurance that cove...</td>\n",
       "      <td>\\n --- \\n TEXT: Belinda's home insurance polic...</td>\n",
       "      <td>0</td>\n",
       "    </tr>\n",
       "    <tr>\n",
       "      <th>135</th>\n",
       "      <td>Wind Damage</td>\n",
       "      <td>controversial</td>\n",
       "      <td>16</td>\n",
       "      <td>8</td>\n",
       "      <td>2</td>\n",
       "      <td>0.615385</td>\n",
       "      <td>0.307692</td>\n",
       "      <td>0.076923</td>\n",
       "      <td>Wind Damage</td>\n",
       "      <td>Tom's home insurance policy includes coverage ...</td>\n",
       "      <td>...</td>\n",
       "      <td>97</td>\n",
       "      <td>95</td>\n",
       "      <td>\\n --- \\n TEXT: Mariam has insurance that cove...</td>\n",
       "      <td>\\n --- \\n TEXT: Fatema's home insurance covers...</td>\n",
       "      <td>\\n --- \\n TEXT: Miranda's home insurance polic...</td>\n",
       "      <td>\\n --- \\n TEXT: Salma's home insurance covers ...</td>\n",
       "      <td>\\n --- \\n TEXT: Joanne's home insurance covers...</td>\n",
       "      <td>\\n --- \\n TEXT: Mariam has insurance that cove...</td>\n",
       "      <td>\\n --- \\n TEXT: Belinda's home insurance polic...</td>\n",
       "      <td>100</td>\n",
       "    </tr>\n",
       "    <tr>\n",
       "      <th>136</th>\n",
       "      <td>Wind Damage</td>\n",
       "      <td>unambiguous_covered</td>\n",
       "      <td>26</td>\n",
       "      <td>0</td>\n",
       "      <td>0</td>\n",
       "      <td>1.000000</td>\n",
       "      <td>0.000000</td>\n",
       "      <td>0.000000</td>\n",
       "      <td>Wind Damage</td>\n",
       "      <td>Tom's home insurance policy includes coverage ...</td>\n",
       "      <td>...</td>\n",
       "      <td>97</td>\n",
       "      <td>95</td>\n",
       "      <td>\\n --- \\n TEXT: Mariam has insurance that cove...</td>\n",
       "      <td>\\n --- \\n TEXT: Fatema's home insurance covers...</td>\n",
       "      <td>\\n --- \\n TEXT: Miranda's home insurance polic...</td>\n",
       "      <td>\\n --- \\n TEXT: Salma's home insurance covers ...</td>\n",
       "      <td>\\n --- \\n TEXT: Joanne's home insurance covers...</td>\n",
       "      <td>\\n --- \\n TEXT: Mariam has insurance that cove...</td>\n",
       "      <td>\\n --- \\n TEXT: Belinda's home insurance polic...</td>\n",
       "      <td>100</td>\n",
       "    </tr>\n",
       "    <tr>\n",
       "      <th>137</th>\n",
       "      <td>Wind Damage</td>\n",
       "      <td>unambiguous_uncovered</td>\n",
       "      <td>7</td>\n",
       "      <td>27</td>\n",
       "      <td>1</td>\n",
       "      <td>0.200000</td>\n",
       "      <td>0.771429</td>\n",
       "      <td>0.028571</td>\n",
       "      <td>Wind Damage</td>\n",
       "      <td>Tom's home insurance policy includes coverage ...</td>\n",
       "      <td>...</td>\n",
       "      <td>11</td>\n",
       "      <td>5</td>\n",
       "      <td>\\n --- \\n TEXT: Mariam has insurance that cove...</td>\n",
       "      <td>\\n --- \\n TEXT: Fatema's home insurance covers...</td>\n",
       "      <td>\\n --- \\n TEXT: Miranda's home insurance polic...</td>\n",
       "      <td>\\n --- \\n TEXT: Salma's home insurance covers ...</td>\n",
       "      <td>\\n --- \\n TEXT: Joanne's home insurance covers...</td>\n",
       "      <td>\\n --- \\n TEXT: Mariam has insurance that cove...</td>\n",
       "      <td>\\n --- \\n TEXT: Belinda's home insurance polic...</td>\n",
       "      <td>4</td>\n",
       "    </tr>\n",
       "  </tbody>\n",
       "</table>\n",
       "<p>138 rows × 34 columns</p>\n",
       "</div>"
      ],
      "text/plain": [
       "                    title                version  nYes  nNo  nCantDecide  \\\n",
       "0     Emergency Damages I          controversial    24    7            4   \n",
       "1     Emergency Damages I    unambiguous_covered    22    0            0   \n",
       "2     Emergency Damages I  unambiguous_uncovered     8    9            2   \n",
       "3    Emergency Damages II          controversial    17   14            0   \n",
       "4    Emergency Damages II    unambiguous_covered    27    0            0   \n",
       "..                    ...                    ...   ...  ...          ...   \n",
       "133      Vehicle Theft VI    unambiguous_covered    24    0            0   \n",
       "134      Vehicle Theft VI  unambiguous_uncovered     0   22            0   \n",
       "135           Wind Damage          controversial    16    8            2   \n",
       "136           Wind Damage    unambiguous_covered    26    0            0   \n",
       "137           Wind Damage  unambiguous_uncovered     7   27            1   \n",
       "\n",
       "      propYes    propNo  propCantDecide               item  \\\n",
       "0    0.685714  0.200000        0.114286  Emergency Damages   \n",
       "1    1.000000  0.000000        0.000000  Emergency Damages   \n",
       "2    0.421053  0.473684        0.105263  Emergency Damages   \n",
       "3    0.548387  0.451613        0.000000  Emergency Damages   \n",
       "4    1.000000  0.000000        0.000000  Emergency Damages   \n",
       "..        ...       ...             ...                ...   \n",
       "133  1.000000  0.000000        0.000000      Vehicle Theft   \n",
       "134  0.000000  1.000000        0.000000    Vehicle TheftVe   \n",
       "135  0.615385  0.307692        0.076923        Wind Damage   \n",
       "136  1.000000  0.000000        0.000000        Wind Damage   \n",
       "137  0.200000  0.771429        0.028571        Wind Damage   \n",
       "\n",
       "                                                header  ...  \\\n",
       "0    Joanne's home insurance covers \"Emergency Dama...  ...   \n",
       "1    Joanne's home insurance covers \"Emergency Dama...  ...   \n",
       "2    Joanne's home insurance covers \"Emergency Dama...  ...   \n",
       "3    Salma's home insurance covers \"Emergency Damag...  ...   \n",
       "4    Salma's home insurance covers \"Emergency Damag...  ...   \n",
       "..                                                 ...  ...   \n",
       "133  Cooper's car insurance policy includes coverag...  ...   \n",
       "134  Cooper's car insurance policy includes coverag...  ...   \n",
       "135  Tom's home insurance policy includes coverage ...  ...   \n",
       "136  Tom's home insurance policy includes coverage ...  ...   \n",
       "137  Tom's home insurance policy includes coverage ...  ...   \n",
       "\n",
       "    fewShotPredictions4 fewShotPredictions5  \\\n",
       "0                    11                  95   \n",
       "1                    97                  95   \n",
       "2                    42                  95   \n",
       "3                    97                  95   \n",
       "4                    97                  95   \n",
       "..                  ...                 ...   \n",
       "133                  95                  95   \n",
       "134                  11                   5   \n",
       "135                  97                  95   \n",
       "136                  97                  95   \n",
       "137                  11                   5   \n",
       "\n",
       "                                 promptWithExampleSet6  \\\n",
       "0    \\n --- \\n TEXT: Mariam has insurance that cove...   \n",
       "1    \\n --- \\n TEXT: Mariam has insurance that cove...   \n",
       "2    \\n --- \\n TEXT: Mariam has insurance that cove...   \n",
       "3    \\n --- \\n TEXT: Mariam has insurance that cove...   \n",
       "4    \\n --- \\n TEXT: Mariam has insurance that cove...   \n",
       "..                                                 ...   \n",
       "133  \\n --- \\n TEXT: Mariam has insurance that cove...   \n",
       "134  \\n --- \\n TEXT: Mariam has insurance that cove...   \n",
       "135  \\n --- \\n TEXT: Mariam has insurance that cove...   \n",
       "136  \\n --- \\n TEXT: Mariam has insurance that cove...   \n",
       "137  \\n --- \\n TEXT: Mariam has insurance that cove...   \n",
       "\n",
       "                                 promptWithExampleSet7  \\\n",
       "0    \\n --- \\n TEXT: Fatema's home insurance covers...   \n",
       "1    \\n --- \\n TEXT: Fatema's home insurance covers...   \n",
       "2    \\n --- \\n TEXT: Fatema's home insurance covers...   \n",
       "3    \\n --- \\n TEXT: Fatema's home insurance covers...   \n",
       "4    \\n --- \\n TEXT: Fatema's home insurance covers...   \n",
       "..                                                 ...   \n",
       "133  \\n --- \\n TEXT: Fatema's home insurance covers...   \n",
       "134  \\n --- \\n TEXT: Fatema's home insurance covers...   \n",
       "135  \\n --- \\n TEXT: Fatema's home insurance covers...   \n",
       "136  \\n --- \\n TEXT: Fatema's home insurance covers...   \n",
       "137  \\n --- \\n TEXT: Fatema's home insurance covers...   \n",
       "\n",
       "                                 promptWithExampleSet8  \\\n",
       "0    \\n --- \\n TEXT: Miranda's home insurance polic...   \n",
       "1    \\n --- \\n TEXT: Miranda's home insurance polic...   \n",
       "2    \\n --- \\n TEXT: Miranda's home insurance polic...   \n",
       "3    \\n --- \\n TEXT: Miranda's home insurance polic...   \n",
       "4    \\n --- \\n TEXT: Miranda's home insurance polic...   \n",
       "..                                                 ...   \n",
       "133  \\n --- \\n TEXT: Miranda's home insurance polic...   \n",
       "134  \\n --- \\n TEXT: Miranda's home insurance polic...   \n",
       "135  \\n --- \\n TEXT: Miranda's home insurance polic...   \n",
       "136  \\n --- \\n TEXT: Miranda's home insurance polic...   \n",
       "137  \\n --- \\n TEXT: Miranda's home insurance polic...   \n",
       "\n",
       "                                 promptWithExampleSet9  \\\n",
       "0    \\n --- \\n TEXT: Salma's home insurance covers ...   \n",
       "1    \\n --- \\n TEXT: Salma's home insurance covers ...   \n",
       "2    \\n --- \\n TEXT: Salma's home insurance covers ...   \n",
       "3    \\n --- \\n TEXT: Salma's home insurance covers ...   \n",
       "4    \\n --- \\n TEXT: Salma's home insurance covers ...   \n",
       "..                                                 ...   \n",
       "133  \\n --- \\n TEXT: Salma's home insurance covers ...   \n",
       "134  \\n --- \\n TEXT: Salma's home insurance covers ...   \n",
       "135  \\n --- \\n TEXT: Salma's home insurance covers ...   \n",
       "136  \\n --- \\n TEXT: Salma's home insurance covers ...   \n",
       "137  \\n --- \\n TEXT: Salma's home insurance covers ...   \n",
       "\n",
       "                                promptWithExampleSet10  \\\n",
       "0    \\n --- \\n TEXT: Joanne's home insurance covers...   \n",
       "1    \\n --- \\n TEXT: Joanne's home insurance covers...   \n",
       "2    \\n --- \\n TEXT: Joanne's home insurance covers...   \n",
       "3    \\n --- \\n TEXT: Joanne's home insurance covers...   \n",
       "4    \\n --- \\n TEXT: Joanne's home insurance covers...   \n",
       "..                                                 ...   \n",
       "133  \\n --- \\n TEXT: Joanne's home insurance covers...   \n",
       "134  \\n --- \\n TEXT: Joanne's home insurance covers...   \n",
       "135  \\n --- \\n TEXT: Joanne's home insurance covers...   \n",
       "136  \\n --- \\n TEXT: Joanne's home insurance covers...   \n",
       "137  \\n --- \\n TEXT: Joanne's home insurance covers...   \n",
       "\n",
       "                                promptWithExampleSet11  \\\n",
       "0    \\n --- \\n TEXT: Mariam has insurance that cove...   \n",
       "1    \\n --- \\n TEXT: Mariam has insurance that cove...   \n",
       "2    \\n --- \\n TEXT: Mariam has insurance that cove...   \n",
       "3    \\n --- \\n TEXT: Mariam has insurance that cove...   \n",
       "4    \\n --- \\n TEXT: Mariam has insurance that cove...   \n",
       "..                                                 ...   \n",
       "133  \\n --- \\n TEXT: Mariam has insurance that cove...   \n",
       "134  \\n --- \\n TEXT: Mariam has insurance that cove...   \n",
       "135  \\n --- \\n TEXT: Mariam has insurance that cove...   \n",
       "136  \\n --- \\n TEXT: Mariam has insurance that cove...   \n",
       "137  \\n --- \\n TEXT: Mariam has insurance that cove...   \n",
       "\n",
       "                                promptWithExampleSet12 fewShotPredictions6  \n",
       "0    \\n --- \\n TEXT: Belinda's home insurance polic...                   4  \n",
       "1    \\n --- \\n TEXT: Belinda's home insurance polic...                 100  \n",
       "2    \\n --- \\n TEXT: Belinda's home insurance polic...                 100  \n",
       "3    \\n --- \\n TEXT: Belinda's home insurance polic...                 100  \n",
       "4    \\n --- \\n TEXT: Belinda's home insurance polic...                 100  \n",
       "..                                                 ...                 ...  \n",
       "133  \\n --- \\n TEXT: Belinda's home insurance polic...                 100  \n",
       "134  \\n --- \\n TEXT: Belinda's home insurance polic...                   0  \n",
       "135  \\n --- \\n TEXT: Belinda's home insurance polic...                 100  \n",
       "136  \\n --- \\n TEXT: Belinda's home insurance polic...                 100  \n",
       "137  \\n --- \\n TEXT: Belinda's home insurance polic...                   4  \n",
       "\n",
       "[138 rows x 34 columns]"
      ]
     },
     "execution_count": 16,
     "metadata": {},
     "output_type": "execute_result"
    }
   ],
   "source": [
    "d"
   ]
  },
  {
   "cell_type": "code",
   "execution_count": null,
   "metadata": {},
   "outputs": [],
   "source": [
    "d.to_csv(\"kfoldFewShotResults.csv\")"
   ]
  },
  {
   "cell_type": "code",
   "execution_count": 17,
   "metadata": {},
   "outputs": [
    {
     "data": {
      "text/plain": [
       "array([[1.        , 0.55722525],\n",
       "       [0.55722525, 1.        ]])"
      ]
     },
     "execution_count": 17,
     "metadata": {},
     "output_type": "execute_result"
    }
   ],
   "source": [
    "np.corrcoef(d.completion.astype(int),d.fewShotPredictions1.astype(int))"
   ]
  },
  {
   "cell_type": "code",
   "execution_count": 18,
   "metadata": {},
   "outputs": [
    {
     "data": {
      "text/plain": [
       "array([[1.        , 0.59592004],\n",
       "       [0.59592004, 1.        ]])"
      ]
     },
     "execution_count": 18,
     "metadata": {},
     "output_type": "execute_result"
    }
   ],
   "source": [
    "np.corrcoef(d.completion.astype(int),d.fewShotPredictions2.astype(int))"
   ]
  },
  {
   "cell_type": "code",
   "execution_count": 19,
   "metadata": {},
   "outputs": [
    {
     "data": {
      "text/plain": [
       "array([[1.        , 0.57556822],\n",
       "       [0.57556822, 1.        ]])"
      ]
     },
     "execution_count": 19,
     "metadata": {},
     "output_type": "execute_result"
    }
   ],
   "source": [
    "np.corrcoef(d.completion.astype(int),d.fewShotPredictions3.astype(int))"
   ]
  },
  {
   "cell_type": "code",
   "execution_count": 20,
   "metadata": {},
   "outputs": [
    {
     "data": {
      "text/plain": [
       "array([[1.        , 0.60554715],\n",
       "       [0.60554715, 1.        ]])"
      ]
     },
     "execution_count": 20,
     "metadata": {},
     "output_type": "execute_result"
    }
   ],
   "source": [
    "np.corrcoef(d.completion.astype(int),d.fewShotPredictions4.astype(int))"
   ]
  },
  {
   "cell_type": "code",
   "execution_count": 21,
   "metadata": {},
   "outputs": [
    {
     "data": {
      "text/plain": [
       "array([[1.        , 0.51016138],\n",
       "       [0.51016138, 1.        ]])"
      ]
     },
     "execution_count": 21,
     "metadata": {},
     "output_type": "execute_result"
    }
   ],
   "source": [
    "np.corrcoef(d.completion.astype(int),d.fewShotPredictions5.astype(int))"
   ]
  },
  {
   "cell_type": "code",
   "execution_count": null,
   "metadata": {},
   "outputs": [],
   "source": [
    "np.corrcoef(d[~(np.isin(d[\"index\"],folds[0]))].completion.astype(int),d[~(np.isin(d[\"index\"],folds[0]))].fewShotPredictions1.astype(int))"
   ]
  },
  {
   "cell_type": "code",
   "execution_count": null,
   "metadata": {},
   "outputs": [],
   "source": [
    "# CORRELATION COEFFICIENT OF UNTUNED PREDICTIONS AGAINST OBSERVATIONS\n",
    "np.corrcoef(d.completion.astype(int),d.untunedPredictions.astype(int))"
   ]
  },
  {
   "cell_type": "code",
   "execution_count": null,
   "metadata": {},
   "outputs": [],
   "source": [
    "# CREATE 10 FOLDS \n",
    "d[\"index\"] = np.arange(len(d))\n",
    "foldIndices = np.copy(d.index)\n",
    "np.random.shuffle(foldIndices)\n",
    "folds = np.array_split(foldIndices, 10)"
   ]
  },
  {
   "cell_type": "code",
   "execution_count": null,
   "metadata": {},
   "outputs": [],
   "source": []
  },
  {
   "cell_type": "code",
   "execution_count": null,
   "metadata": {},
   "outputs": [],
   "source": [
    "fineTuneRecords = pandas.DataFrame(data = {\"fold\" : [], \"file\": [], \"model\": []})"
   ]
  },
  {
   "cell_type": "code",
   "execution_count": null,
   "metadata": {},
   "outputs": [],
   "source": [
    "for i in range(0,1):\n",
    "    trainSet = d[~(np.isin(d[\"index\"],folds[i]))]\n",
    "    #https://beta.openai.com/docs/guides/fine-tuning/preparing-your-dataset\n",
    "    trainSet[\"completion\"] = \" \" + trainSet[\"completion\"] + \" END\"\n",
    "    fileCreateCallBack = openai.File.create(\n",
    "        file=trainSet.to_json(orient = \"records\", lines=True),\n",
    "        purpose='fine-tune'\n",
    "    )\n",
    "    fineTuneCreateCallBack = openai.FineTune.create(\n",
    "        training_file=fileCreateCallBack.id, \n",
    "        model = \"davinci\",\n",
    "        n_epochs = 10,\n",
    "        learning_rate_multiplier = 0.02,\n",
    "        batch_size = 1\n",
    "    )\n",
    "    fineTuneRecords = fineTuneRecords.append({\"fold\": i, \"file\": fileCreateCallBack.id, \"model\": fineTuneCreateCallBack.id}, ignore_index = True)"
   ]
  },
  {
   "cell_type": "code",
   "execution_count": null,
   "metadata": {},
   "outputs": [],
   "source": [
    "fineTuneRecords"
   ]
  },
  {
   "cell_type": "code",
   "execution_count": null,
   "metadata": {},
   "outputs": [],
   "source": [
    "openai.FineTune.retrieve(\"ft-glTAdPkXDETZOP2A9VmjHHbC\")"
   ]
  },
  {
   "cell_type": "code",
   "execution_count": null,
   "metadata": {},
   "outputs": [],
   "source": [
    "testSet = d[np.isin(d[\"index\"],folds[0])]\n",
    "testSet[\"fineTunedPredictions\"] = testSet.apply(lambda x : openai.Completion.create(model=\"davinci:ft-stanford-2023-01-24-22-15-27\", \n",
    "                                    prompt=x[\"prompt\"],\n",
    "                                    stop=[\" END\"],                                          \n",
    "                                    temperature=0, max_tokens=4).choices[0].text, axis = 1)"
   ]
  },
  {
   "cell_type": "code",
   "execution_count": null,
   "metadata": {},
   "outputs": [],
   "source": [
    "# 44, 5, 19\n",
    "\n",
    "openai.Completion.create(model=\"davinci:ft-stanford-2023-01-24-22-36-29\", \n",
    "                                    prompt=testSet[\"prompt\"][5],\n",
    "                                    stop=\" END\",                                          \n",
    "                                    temperature=0, max_tokens=4).choices[0].text"
   ]
  },
  {
   "cell_type": "code",
   "execution_count": null,
   "metadata": {},
   "outputs": [],
   "source": [
    "# openai.Completion.create(model=\"davinci:ft-stanford-2023-01-24-20-01-04\", \n",
    "#                                     prompt=testSet[\"prompt\"],\n",
    "#                                     temperature=0, max_tokens=4).choices[0]\n",
    "\n"
   ]
  },
  {
   "cell_type": "code",
   "execution_count": null,
   "metadata": {},
   "outputs": [],
   "source": [
    "testSet\n"
   ]
  },
  {
   "cell_type": "code",
   "execution_count": null,
   "metadata": {},
   "outputs": [],
   "source": [
    "for i in range(0,1):\n",
    "    print(i)"
   ]
  },
  {
   "cell_type": "code",
   "execution_count": null,
   "metadata": {},
   "outputs": [],
   "source": []
  }
 ],
 "metadata": {
  "kernelspec": {
   "display_name": "falseConsensus",
   "language": "python",
   "name": "falseconsensus"
  },
  "language_info": {
   "codemirror_mode": {
    "name": "ipython",
    "version": 3
   },
   "file_extension": ".py",
   "mimetype": "text/x-python",
   "name": "python",
   "nbconvert_exporter": "python",
   "pygments_lexer": "ipython3",
   "version": "3.10.8"
  }
 },
 "nbformat": 4,
 "nbformat_minor": 5
}
